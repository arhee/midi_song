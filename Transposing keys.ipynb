{
 "cells": [
  {
   "cell_type": "markdown",
   "metadata": {},
   "source": [
    "This converts midi files into the key of C.\n",
    "\n",
    "To Do:  Make it malleable for any key"
   ]
  },
  {
   "cell_type": "code",
   "execution_count": 4,
   "metadata": {
    "collapsed": true
   },
   "outputs": [],
   "source": [
    "import music21\n",
    "import glob\n",
    "from music21.midi import MidiException"
   ]
  },
  {
   "cell_type": "code",
   "execution_count": 2,
   "metadata": {
    "collapsed": true
   },
   "outputs": [],
   "source": [
    "def transpose(score, newkey='C'):\n",
    "    \"\"\" Transposes the midi file to C. \n",
    "    Args: music21.stream.Score\n",
    "    Returns: music21.stream.Score\n",
    "    \"\"\"\n",
    "\n",
    "    keys = {'C':0, \n",
    "            'C#':1, \n",
    "            'D-':1,\n",
    "            'D':2,\n",
    "            'D#':3,\n",
    "            'E-':3,\n",
    "            'E':4,\n",
    "            'F-':4,\n",
    "            'E#':5,        \n",
    "            'F':5,\n",
    "            'F#':6,\n",
    "            'G-':6,\n",
    "            'G':7,\n",
    "            'G#':8,\n",
    "            'A-':8,\n",
    "            'A':9,\n",
    "            'A#':10,\n",
    "            'B-':10,\n",
    "            'B':11,\n",
    "            'B#':0,\n",
    "           }\n",
    "\n",
    "    oldkey = score.analyze('key')\n",
    "\n",
    "    if oldkey.mode == \"major\":\n",
    "        halfSteps = keys[oldkey.tonic.name.upper()]\n",
    "\n",
    "    elif oldkey.mode == \"minor\":\n",
    "        halfSteps = keys[oldkey.tonic.name.upper()] + 4\n",
    "\n",
    "    halfSteps %= 12\n",
    "\n",
    "    newscore = score.transpose(-halfSteps)\n",
    "    trans_key = newscore.analyze('key')\n",
    "    print oldkey, trans_key\n",
    "    return newscore"
   ]
  },
  {
   "cell_type": "code",
   "execution_count": 5,
   "metadata": {
    "collapsed": false
   },
   "outputs": [
    {
     "name": "stdout",
     "output_type": "stream",
     "text": [
      "d minor g# minor\n",
      "E- major C major\n",
      "e minor g# minor\n",
      "g minor g# minor\n"
     ]
    },
    {
     "name": "stderr",
     "output_type": "stream",
     "text": [
      "midi.base.py: WARNING: Conversion error for <MidiEvent PROGRAM_CHANGE, t=0, track=1, channel=1>: Got incorrect data for <MidiEvent PROGRAM_CHANGE, t=0, track=1, channel=1> in .data: None,cannot parse Program Change; ignored.\n",
      "midi.base.py: WARNING: Conversion error for <MidiEvent PROGRAM_CHANGE, t=0, track=1, channel=1>: Got incorrect data for <MidiEvent PROGRAM_CHANGE, t=0, track=1, channel=1> in .data: None,cannot parse Program Change; ignored.\n"
     ]
    },
    {
     "name": "stdout",
     "output_type": "stream",
     "text": [
      "a minor g# minor\n",
      "B- major C major\n",
      "A major C major\n",
      "a minor g# minor\n",
      "B major C major\n",
      "C major C major\n",
      "C major C major\n",
      "a minor g# minor\n",
      "c# minor g# minor\n",
      "C major C major\n"
     ]
    },
    {
     "name": "stderr",
     "output_type": "stream",
     "text": [
      "midi.base.py: WARNING: Conversion error for <MidiEvent PROGRAM_CHANGE, t=0, track=1, channel=1>: Got incorrect data for <MidiEvent PROGRAM_CHANGE, t=0, track=1, channel=1> in .data: None,cannot parse Program Change; ignored.\n",
      "midi.base.py: WARNING: Conversion error for <MidiEvent PROGRAM_CHANGE, t=0, track=1, channel=1>: Got incorrect data for <MidiEvent PROGRAM_CHANGE, t=0, track=1, channel=1> in .data: None,cannot parse Program Change; ignored.\n"
     ]
    },
    {
     "name": "stdout",
     "output_type": "stream",
     "text": [
      "E- major C major\n",
      "e minor g# minor\n",
      "C major C major\n",
      "G major C major\n",
      "C major C major\n"
     ]
    },
    {
     "name": "stderr",
     "output_type": "stream",
     "text": [
      "midi.base.py: WARNING: Conversion error for <MidiEvent PROGRAM_CHANGE, t=0, track=1, channel=1>: Got incorrect data for <MidiEvent PROGRAM_CHANGE, t=0, track=1, channel=1> in .data: None,cannot parse Program Change; ignored.\n",
      "midi.base.py: WARNING: Conversion error for <MidiEvent PROGRAM_CHANGE, t=0, track=1, channel=1>: Got incorrect data for <MidiEvent PROGRAM_CHANGE, t=0, track=1, channel=1> in .data: None,cannot parse Program Change; ignored.\n"
     ]
    },
    {
     "name": "stdout",
     "output_type": "stream",
     "text": [
      "c minor g# minor\n",
      "e minor g# minor\n",
      "a minor g# minor\n",
      "G major C major\n",
      "e minor g# minor\n",
      "c# minor g# minor\n",
      "e minor g# minor\n",
      "A major C major\n",
      "D major C major\n",
      "a minor g# minor\n",
      "G major C major\n",
      "a minor g# minor\n"
     ]
    },
    {
     "name": "stderr",
     "output_type": "stream",
     "text": [
      "midi.base.py: WARNING: Conversion error for <MidiEvent PROGRAM_CHANGE, t=0, track=1, channel=1>: Got incorrect data for <MidiEvent PROGRAM_CHANGE, t=0, track=1, channel=1> in .data: None,cannot parse Program Change; ignored.\n",
      "midi.base.py: WARNING: Conversion error for <MidiEvent PROGRAM_CHANGE, t=0, track=1, channel=1>: Got incorrect data for <MidiEvent PROGRAM_CHANGE, t=0, track=1, channel=1> in .data: None,cannot parse Program Change; ignored.\n"
     ]
    },
    {
     "name": "stdout",
     "output_type": "stream",
     "text": [
      "G major C major\n",
      "e minor g# minor\n",
      "d minor g# minor\n",
      "c minor g# minor\n",
      "C major C major\n",
      "f minor g# minor\n",
      "g minor g# minor\n",
      "d minor g# minor\n",
      "d minor g# minor\n",
      "a minor g# minor\n",
      "F# major C major\n",
      "a minor g# minor\n",
      "D major C major\n",
      "e minor g# minor\n",
      "a minor g# minor\n",
      "c minor g# minor\n",
      "G major C major\n",
      "e minor g# minor\n",
      "e minor g# minor\n",
      "e minor g# minor\n",
      "a minor g# minor\n",
      "D major C major\n",
      "D major C major\n",
      "F major C major\n",
      "G major C major\n",
      "C major C major\n",
      "a minor g# minor\n",
      "c minor g# minor\n"
     ]
    },
    {
     "name": "stderr",
     "output_type": "stream",
     "text": [
      "midi.base.py: WARNING: Conversion error for <MidiEvent PROGRAM_CHANGE, t=0, track=1, channel=1>: Got incorrect data for <MidiEvent PROGRAM_CHANGE, t=0, track=1, channel=1> in .data: None,cannot parse Program Change; ignored.\n",
      "midi.base.py: WARNING: Conversion error for <MidiEvent PROGRAM_CHANGE, t=0, track=1, channel=1>: Got incorrect data for <MidiEvent PROGRAM_CHANGE, t=0, track=1, channel=1> in .data: None,cannot parse Program Change; ignored.\n"
     ]
    },
    {
     "name": "stdout",
     "output_type": "stream",
     "text": [
      "e minor g# minor\n",
      "C major C major\n",
      "e minor g# minor\n"
     ]
    },
    {
     "name": "stderr",
     "output_type": "stream",
     "text": [
      "midi.base.py: WARNING: Conversion error for <MidiEvent PROGRAM_CHANGE, t=0, track=1, channel=1>: Got incorrect data for <MidiEvent PROGRAM_CHANGE, t=0, track=1, channel=1> in .data: None,cannot parse Program Change; ignored.\n",
      "midi.base.py: WARNING: Conversion error for <MidiEvent PROGRAM_CHANGE, t=0, track=1, channel=1>: Got incorrect data for <MidiEvent PROGRAM_CHANGE, t=0, track=1, channel=1> in .data: None,cannot parse Program Change; ignored.\n"
     ]
    },
    {
     "name": "stdout",
     "output_type": "stream",
     "text": [
      "c minor c minor\n",
      "c minor g# minor\n",
      "C major C major\n"
     ]
    },
    {
     "name": "stderr",
     "output_type": "stream",
     "text": [
      "midi.base.py: WARNING: Conversion error for <MidiEvent PROGRAM_CHANGE, t=0, track=1, channel=1>: Got incorrect data for <MidiEvent PROGRAM_CHANGE, t=0, track=1, channel=1> in .data: None,cannot parse Program Change; ignored.\n",
      "midi.base.py: WARNING: Conversion error for <MidiEvent PROGRAM_CHANGE, t=0, track=1, channel=1>: Got incorrect data for <MidiEvent PROGRAM_CHANGE, t=0, track=1, channel=1> in .data: None,cannot parse Program Change; ignored.\n"
     ]
    },
    {
     "name": "stdout",
     "output_type": "stream",
     "text": [
      "e minor g# minor\n",
      "e minor g# minor\n",
      "e minor g# minor\n",
      "a minor g# minor\n",
      "d minor g# minor\n",
      "A major C major\n",
      "d minor g# minor\n",
      "c minor g# minor\n",
      "G major C major\n",
      "d minor g# minor\n",
      "c minor g# minor\n",
      "A major C major\n"
     ]
    },
    {
     "name": "stderr",
     "output_type": "stream",
     "text": [
      "midi.base.py: WARNING: Conversion error for <MidiEvent PROGRAM_CHANGE, t=0, track=1, channel=1>: Got incorrect data for <MidiEvent PROGRAM_CHANGE, t=0, track=1, channel=1> in .data: None,cannot parse Program Change; ignored.\n",
      "midi.base.py: WARNING: Conversion error for <MidiEvent PROGRAM_CHANGE, t=0, track=1, channel=1>: Got incorrect data for <MidiEvent PROGRAM_CHANGE, t=0, track=1, channel=1> in .data: None,cannot parse Program Change; ignored.\n"
     ]
    },
    {
     "name": "stdout",
     "output_type": "stream",
     "text": [
      "a minor g# minor\n",
      "C major C major\n"
     ]
    },
    {
     "name": "stderr",
     "output_type": "stream",
     "text": [
      "midi.base.py: WARNING: Conversion error for <MidiEvent PROGRAM_CHANGE, t=0, track=1, channel=1>: Got incorrect data for <MidiEvent PROGRAM_CHANGE, t=0, track=1, channel=1> in .data: None,cannot parse Program Change; ignored.\n",
      "midi.base.py: WARNING: Conversion error for <MidiEvent PROGRAM_CHANGE, t=0, track=1, channel=1>: Got incorrect data for <MidiEvent PROGRAM_CHANGE, t=0, track=1, channel=1> in .data: None,cannot parse Program Change; ignored.\n"
     ]
    },
    {
     "name": "stdout",
     "output_type": "stream",
     "text": [
      "a minor g# minor\n",
      "a minor g# minor\n",
      "D major C major\n",
      "G major C major\n",
      "a minor g# minor\n",
      "d minor g# minor\n"
     ]
    },
    {
     "name": "stderr",
     "output_type": "stream",
     "text": [
      "midi.base.py: WARNING: Conversion error for <MidiEvent PROGRAM_CHANGE, t=0, track=1, channel=1>: Got incorrect data for <MidiEvent PROGRAM_CHANGE, t=0, track=1, channel=1> in .data: None,cannot parse Program Change; ignored.\n",
      "midi.base.py: WARNING: Conversion error for <MidiEvent PROGRAM_CHANGE, t=0, track=1, channel=1>: Got incorrect data for <MidiEvent PROGRAM_CHANGE, t=0, track=1, channel=1> in .data: None,cannot parse Program Change; ignored.\n"
     ]
    },
    {
     "name": "stdout",
     "output_type": "stream",
     "text": [
      "a minor g# minor\n",
      "a minor g# minor\n",
      "D major C major\n",
      "f minor g# minor\n"
     ]
    },
    {
     "name": "stderr",
     "output_type": "stream",
     "text": [
      "midi.base.py: WARNING: Conversion error for <MidiEvent PROGRAM_CHANGE, t=0, track=1, channel=1>: Got incorrect data for <MidiEvent PROGRAM_CHANGE, t=0, track=1, channel=1> in .data: None,cannot parse Program Change; ignored.\n",
      "midi.base.py: WARNING: Conversion error for <MidiEvent PROGRAM_CHANGE, t=0, track=1, channel=1>: Got incorrect data for <MidiEvent PROGRAM_CHANGE, t=0, track=1, channel=1> in .data: None,cannot parse Program Change; ignored.\n"
     ]
    },
    {
     "name": "stdout",
     "output_type": "stream",
     "text": [
      "a minor g# minor\n",
      "c minor g# minor\n",
      "a minor g# minor\n",
      "B- major C major\n",
      "D major C major\n",
      "a minor g# minor\n",
      "b minor g# minor\n",
      "D major C major\n",
      "A major C major\n",
      "G major C major\n",
      "G major C major\n",
      "C major C major\n",
      "b minor g# minor\n",
      "e minor g# minor\n"
     ]
    },
    {
     "name": "stderr",
     "output_type": "stream",
     "text": [
      "midi.base.py: WARNING: Conversion error for <MidiEvent PROGRAM_CHANGE, t=0, track=1, channel=1>: Got incorrect data for <MidiEvent PROGRAM_CHANGE, t=0, track=1, channel=1> in .data: None,cannot parse Program Change; ignored.\n",
      "midi.base.py: WARNING: Conversion error for <MidiEvent PROGRAM_CHANGE, t=0, track=1, channel=1>: Got incorrect data for <MidiEvent PROGRAM_CHANGE, t=0, track=1, channel=1> in .data: None,cannot parse Program Change; ignored.\n"
     ]
    },
    {
     "name": "stdout",
     "output_type": "stream",
     "text": [
      "C major C major\n",
      "b minor g# minor\n",
      "c minor g# minor\n"
     ]
    },
    {
     "name": "stderr",
     "output_type": "stream",
     "text": [
      "midi.base.py: WARNING: Conversion error for <MidiEvent PROGRAM_CHANGE, t=0, track=1, channel=1>: Got incorrect data for <MidiEvent PROGRAM_CHANGE, t=0, track=1, channel=1> in .data: None,cannot parse Program Change; ignored.\n",
      "midi.base.py: WARNING: Conversion error for <MidiEvent PROGRAM_CHANGE, t=0, track=1, channel=1>: Got incorrect data for <MidiEvent PROGRAM_CHANGE, t=0, track=1, channel=1> in .data: None,cannot parse Program Change; ignored.\n"
     ]
    },
    {
     "name": "stdout",
     "output_type": "stream",
     "text": [
      "D major C major\n",
      "e minor g# minor\n",
      "c minor g# minor\n",
      "A major C major\n",
      "G major C major\n",
      "g minor g# minor\n"
     ]
    },
    {
     "name": "stderr",
     "output_type": "stream",
     "text": [
      "midi.base.py: WARNING: Conversion error for <MidiEvent PROGRAM_CHANGE, t=0, track=1, channel=1>: Got incorrect data for <MidiEvent PROGRAM_CHANGE, t=0, track=1, channel=1> in .data: None,cannot parse Program Change; ignored.\n"
     ]
    },
    {
     "name": "stdout",
     "output_type": "stream",
     "text": [
      "a minor g# minor\n",
      "D major C major\n",
      "G major C major\n",
      "d minor g# minor\n",
      "a minor g# minor\n",
      "a minor g# minor\n",
      "e minor g# minor\n",
      "d minor g# minor\n",
      "c minor g# minor\n",
      "A major C major\n",
      "D major C major\n",
      "A major C major\n",
      "B- major C major\n",
      "C major C major\n",
      "c minor g# minor\n",
      "G major C major\n",
      "a minor g# minor\n",
      "D major C major\n",
      "A major C major\n",
      "e minor g# minor\n",
      "e minor g# minor\n",
      "a minor g# minor\n",
      "a minor g# minor\n",
      "e minor g# minor\n",
      "A major C major\n",
      "D major C major\n",
      "D major C major\n"
     ]
    },
    {
     "name": "stderr",
     "output_type": "stream",
     "text": [
      "midi.base.py: WARNING: Conversion error for <MidiEvent PROGRAM_CHANGE, t=0, track=1, channel=1>: Got incorrect data for <MidiEvent PROGRAM_CHANGE, t=0, track=1, channel=1> in .data: None,cannot parse Program Change; ignored.\n",
      "midi.base.py: WARNING: Conversion error for <MidiEvent PROGRAM_CHANGE, t=0, track=1, channel=1>: Got incorrect data for <MidiEvent PROGRAM_CHANGE, t=0, track=1, channel=1> in .data: None,cannot parse Program Change; ignored.\n"
     ]
    },
    {
     "name": "stdout",
     "output_type": "stream",
     "text": [
      "e minor g# minor\n",
      "d minor g# minor\n",
      "G major C major\n",
      "c minor g# minor\n",
      "a minor g# minor\n",
      "b minor g# minor\n",
      "C major C major\n",
      "D major C major\n",
      "a minor g# minor\n",
      "F major C major\n",
      "d minor g# minor\n",
      "g minor g# minor\n",
      "a minor g# minor"
     ]
    },
    {
     "name": "stderr",
     "output_type": "stream",
     "text": [
      "midi.base.py: WARNING: Conversion error for <MidiEvent PROGRAM_CHANGE, t=0, track=1, channel=1>: Got incorrect data for <MidiEvent PROGRAM_CHANGE, t=0, track=1, channel=1> in .data: None,cannot parse Program Change; ignored.\n",
      "midi.base.py: WARNING: Conversion error for <MidiEvent PROGRAM_CHANGE, t=0, track=1, channel=1>: Got incorrect data for <MidiEvent PROGRAM_CHANGE, t=0, track=1, channel=1> in .data: None,cannot parse Program Change; ignored.\n"
     ]
    },
    {
     "name": "stdout",
     "output_type": "stream",
     "text": [
      "\n",
      "f# minor g# minor\n"
     ]
    },
    {
     "name": "stderr",
     "output_type": "stream",
     "text": [
      "midi.base.py: WARNING: Conversion error for <MidiEvent PROGRAM_CHANGE, t=0, track=1, channel=1>: Got incorrect data for <MidiEvent PROGRAM_CHANGE, t=0, track=1, channel=1> in .data: None,cannot parse Program Change; ignored.\n",
      "midi.base.py: WARNING: Conversion error for <MidiEvent PROGRAM_CHANGE, t=0, track=1, channel=1>: Got incorrect data for <MidiEvent PROGRAM_CHANGE, t=0, track=1, channel=1> in .data: None,cannot parse Program Change; ignored.\n"
     ]
    },
    {
     "name": "stdout",
     "output_type": "stream",
     "text": [
      "e minor g# minor\n",
      "A major C major\n",
      "A- major C major\n",
      "a minor g# minor\n",
      "c minor g# minor\n",
      "e minor g# minor\n",
      "D major C major\n"
     ]
    },
    {
     "name": "stderr",
     "output_type": "stream",
     "text": [
      "midi.base.py: WARNING: Conversion error for <MidiEvent PROGRAM_CHANGE, t=0, track=1, channel=1>: Got incorrect data for <MidiEvent PROGRAM_CHANGE, t=0, track=1, channel=1> in .data: None,cannot parse Program Change; ignored.\n",
      "midi.base.py: WARNING: Conversion error for <MidiEvent PROGRAM_CHANGE, t=0, track=1, channel=1>: Got incorrect data for <MidiEvent PROGRAM_CHANGE, t=0, track=1, channel=1> in .data: None,cannot parse Program Change; ignored.\n"
     ]
    },
    {
     "name": "stdout",
     "output_type": "stream",
     "text": [
      "a minor g# minor\n",
      "e minor g# minor\n"
     ]
    },
    {
     "name": "stderr",
     "output_type": "stream",
     "text": [
      "midi.base.py: WARNING: Conversion error for <MidiEvent PROGRAM_CHANGE, t=0, track=1, channel=1>: Got incorrect data for <MidiEvent PROGRAM_CHANGE, t=0, track=1, channel=1> in .data: None,cannot parse Program Change; ignored.\n",
      "midi.base.py: WARNING: Conversion error for <MidiEvent PROGRAM_CHANGE, t=0, track=1, channel=1>: Got incorrect data for <MidiEvent PROGRAM_CHANGE, t=0, track=1, channel=1> in .data: None,cannot parse Program Change; ignored.\n"
     ]
    },
    {
     "name": "stdout",
     "output_type": "stream",
     "text": [
      "B- major C major\n"
     ]
    },
    {
     "name": "stderr",
     "output_type": "stream",
     "text": [
      "midi.base.py: WARNING: Conversion error for <MidiEvent PROGRAM_CHANGE, t=0, track=1, channel=1>: Got incorrect data for <MidiEvent PROGRAM_CHANGE, t=0, track=1, channel=1> in .data: None,cannot parse Program Change; ignored.\n",
      "midi.base.py: WARNING: Conversion error for <MidiEvent PROGRAM_CHANGE, t=0, track=1, channel=1>: Got incorrect data for <MidiEvent PROGRAM_CHANGE, t=0, track=1, channel=1> in .data: None,cannot parse Program Change; ignored.\n"
     ]
    },
    {
     "name": "stdout",
     "output_type": "stream",
     "text": [
      "a minor g# minor\n",
      "a minor g# minor\n",
      "C major C major\n"
     ]
    },
    {
     "name": "stderr",
     "output_type": "stream",
     "text": [
      "midi.base.py: WARNING: Conversion error for <MidiEvent PROGRAM_CHANGE, t=0, track=1, channel=1>: Got incorrect data for <MidiEvent PROGRAM_CHANGE, t=0, track=1, channel=1> in .data: None,cannot parse Program Change; ignored.\n",
      "midi.base.py: WARNING: Conversion error for <MidiEvent PROGRAM_CHANGE, t=0, track=1, channel=1>: Got incorrect data for <MidiEvent PROGRAM_CHANGE, t=0, track=1, channel=1> in .data: None,cannot parse Program Change; ignored.\n"
     ]
    },
    {
     "name": "stdout",
     "output_type": "stream",
     "text": [
      "a minor g# minor\n",
      "e minor g# minor\n",
      "a minor g# minor\n",
      "C major C major\n"
     ]
    },
    {
     "name": "stderr",
     "output_type": "stream",
     "text": [
      "midi.base.py: WARNING: Conversion error for <MidiEvent PROGRAM_CHANGE, t=0, track=1, channel=1>: Got incorrect data for <MidiEvent PROGRAM_CHANGE, t=0, track=1, channel=1> in .data: None,cannot parse Program Change; ignored.\n",
      "midi.base.py: WARNING: Conversion error for <MidiEvent PROGRAM_CHANGE, t=0, track=1, channel=1>: Got incorrect data for <MidiEvent PROGRAM_CHANGE, t=0, track=1, channel=1> in .data: None,cannot parse Program Change; ignored.\n"
     ]
    },
    {
     "name": "stdout",
     "output_type": "stream",
     "text": [
      "e minor g# minor\n",
      "e minor g# minor\n",
      "a minor g# minor\n",
      "d minor g# minor\n",
      "e minor g# minor\n",
      "a minor g# minor\n",
      "a minor g# minor\n",
      "C major C major\n",
      "g minor g# minor\n",
      "F major C major\n",
      "E major C major\n",
      "F major C major\n"
     ]
    },
    {
     "name": "stderr",
     "output_type": "stream",
     "text": [
      "midi.base.py: WARNING: Conversion error for <MidiEvent PROGRAM_CHANGE, t=0, track=1, channel=1>: Got incorrect data for <MidiEvent PROGRAM_CHANGE, t=0, track=1, channel=1> in .data: None,cannot parse Program Change; ignored.\n",
      "midi.base.py: WARNING: Conversion error for <MidiEvent PROGRAM_CHANGE, t=0, track=1, channel=1>: Got incorrect data for <MidiEvent PROGRAM_CHANGE, t=0, track=1, channel=1> in .data: None,cannot parse Program Change; ignored.\n"
     ]
    },
    {
     "name": "stdout",
     "output_type": "stream",
     "text": [
      "C major C major\n",
      "C major C major\n",
      "G major C major\n",
      "C major C major\n",
      "C major C major\n"
     ]
    },
    {
     "name": "stderr",
     "output_type": "stream",
     "text": [
      "midi.base.py: WARNING: Conversion error for <MidiEvent PROGRAM_CHANGE, t=0, track=1, channel=1>: Got incorrect data for <MidiEvent PROGRAM_CHANGE, t=0, track=1, channel=1> in .data: None,cannot parse Program Change; ignored.\n",
      "midi.base.py: WARNING: Conversion error for <MidiEvent PROGRAM_CHANGE, t=0, track=1, channel=1>: Got incorrect data for <MidiEvent PROGRAM_CHANGE, t=0, track=1, channel=1> in .data: None,cannot parse Program Change; ignored.\n",
      "midi.base.py: WARNING: Conversion error for <MidiEvent PROGRAM_CHANGE, t=0, track=1, channel=1>: Got incorrect data for <MidiEvent PROGRAM_CHANGE, t=0, track=1, channel=1> in .data: None,cannot parse Program Change; ignored.\n",
      "midi.base.py: WARNING: Conversion error for <MidiEvent PROGRAM_CHANGE, t=0, track=1, channel=1>: Got incorrect data for <MidiEvent PROGRAM_CHANGE, t=0, track=1, channel=1> in .data: None,cannot parse Program Change; ignored.\n"
     ]
    },
    {
     "name": "stdout",
     "output_type": "stream",
     "text": [
      "D major C major\n",
      "b minor g# minor\n",
      "A major C major\n",
      "e minor g# minor\n",
      "E- major C major\n",
      "A major C major\n",
      "d minor g# minor\n",
      "F major C major\n",
      "d minor g# minor\n",
      "F major C major\n",
      "b minor g# minor\n",
      "a minor g# minor\n",
      "b minor g# minor\n",
      "G major C major\n",
      "b minor g# minor\n",
      "g minor g# minor\n",
      "D major C major\n",
      "a minor g# minor\n",
      "a minor g# minor\n",
      "e minor g# minor\n"
     ]
    },
    {
     "name": "stderr",
     "output_type": "stream",
     "text": [
      "midi.base.py: WARNING: Conversion error for <MidiEvent PROGRAM_CHANGE, t=0, track=1, channel=1>: Got incorrect data for <MidiEvent PROGRAM_CHANGE, t=0, track=1, channel=1> in .data: None,cannot parse Program Change; ignored.\n",
      "midi.base.py: WARNING: Conversion error for <MidiEvent PROGRAM_CHANGE, t=0, track=1, channel=1>: Got incorrect data for <MidiEvent PROGRAM_CHANGE, t=0, track=1, channel=1> in .data: None,cannot parse Program Change; ignored.\n"
     ]
    },
    {
     "name": "stdout",
     "output_type": "stream",
     "text": [
      "a minor g# minor\n"
     ]
    }
   ],
   "source": [
    "guitar_dir = 'data/guitar_licks/'\n",
    "for fname in glob.glob(guitar_dir + '*'):\n",
    "    try:\n",
    "        oldscore = music21.converter.parse(fname)\n",
    "        newscore = transpose(oldscore)\n",
    "        newFileName = \"data/tr_guitar_licks/C_\" + fname.split('/')[-1]\n",
    "        newscore.write('midi',newFileName)            \n",
    "    except MidiException:\n",
    "        continue\n"
   ]
  },
  {
   "cell_type": "code",
   "execution_count": null,
   "metadata": {
    "collapsed": true
   },
   "outputs": [],
   "source": []
  }
 ],
 "metadata": {
  "anaconda-cloud": {},
  "kernelspec": {
   "display_name": "Python [default]",
   "language": "python",
   "name": "python2"
  },
  "language_info": {
   "codemirror_mode": {
    "name": "ipython",
    "version": 2
   },
   "file_extension": ".py",
   "mimetype": "text/x-python",
   "name": "python",
   "nbconvert_exporter": "python",
   "pygments_lexer": "ipython2",
   "version": "2.7.12"
  }
 },
 "nbformat": 4,
 "nbformat_minor": 1
}
