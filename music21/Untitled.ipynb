{
 "cells": [
  {
   "cell_type": "code",
   "execution_count": 1,
   "metadata": {
    "collapsed": true
   },
   "outputs": [],
   "source": [
    "import music21"
   ]
  },
  {
   "cell_type": "code",
   "execution_count": 4,
   "metadata": {
    "collapsed": false
   },
   "outputs": [
    {
     "name": "stdout",
     "output_type": "stream",
     "text": [
      "  0 11  7  8  3  1  2 10  6  5  4  9\n",
      "  1  0  8  9  4  2  3 11  7  6  5 10\n",
      "  5  4  0  1  8  6  7  3 11 10  9  2\n",
      "  4  3 11  0  7  5  6  2 10  9  8  1\n",
      "  9  8  4  5  0 10 11  7  3  2  1  6\n",
      " 11 10  6  7  2  0  1  9  5  4  3  8\n",
      " 10  9  5  6  1 11  0  8  4  3  2  7\n",
      "  2  1  9 10  5  3  4  0  8  7  6 11\n",
      "  6  5  1  2  9  7  8  4  0 11 10  3\n",
      "  7  6  2  3 10  8  9  5  1  0 11  4\n",
      "  8  7  3  4 11  9 10  6  2  1  0  5\n",
      "  3  2 10 11  6  4  5  1  9  8  7  0\n"
     ]
    }
   ],
   "source": [
    "print (music21.serial.rowToMatrix([2,1,9,10,5,3,4,0,8,7,6,11]) )"
   ]
  },
  {
   "cell_type": "code",
   "execution_count": null,
   "metadata": {
    "collapsed": true
   },
   "outputs": [],
   "source": []
  }
 ],
 "metadata": {
  "anaconda-cloud": {},
  "kernelspec": {
   "display_name": "Python [conda root]",
   "language": "python",
   "name": "conda-root-py"
  },
  "language_info": {
   "codemirror_mode": {
    "name": "ipython",
    "version": 2
   },
   "file_extension": ".py",
   "mimetype": "text/x-python",
   "name": "python",
   "nbconvert_exporter": "python",
   "pygments_lexer": "ipython2",
   "version": "2.7.12"
  }
 },
 "nbformat": 4,
 "nbformat_minor": 1
}
