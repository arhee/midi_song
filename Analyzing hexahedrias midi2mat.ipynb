{
 "cells": [
  {
   "cell_type": "code",
   "execution_count": 16,
   "metadata": {
    "collapsed": true
   },
   "outputs": [],
   "source": [
    "import midi, numpy\n",
    "\n",
    "lowerBound = 24\n",
    "upperBound = 102\n"
   ]
  },
  {
   "cell_type": "code",
   "execution_count": 15,
   "metadata": {
    "collapsed": true
   },
   "outputs": [],
   "source": [
    "def noteStateMatrixToMidi(statematrix, name=\"example\"):\n",
    "    statematrix = numpy.asarray(statematrix)\n",
    "    pattern = midi.Pattern()\n",
    "    track = midi.Track()\n",
    "    pattern.append(track)\n",
    "    \n",
    "    span = upperBound-lowerBound\n",
    "    tickscale = 55\n",
    "    \n",
    "    lastcmdtime = 0\n",
    "    prevstate = [[0,0] for x in range(span)]\n",
    "    for time, state in enumerate(statematrix + [prevstate[:]]):  \n",
    "        offNotes = []\n",
    "        onNotes = []\n",
    "        for i in range(span):\n",
    "            n = state[i]\n",
    "            p = prevstate[i]\n",
    "            if p[0] == 1:\n",
    "                if n[0] == 0:\n",
    "                    offNotes.append(i)\n",
    "                elif n[1] == 1:\n",
    "                    offNotes.append(i)\n",
    "                    onNotes.append(i)\n",
    "            elif n[0] == 1:\n",
    "                onNotes.append(i)\n",
    "        for note in offNotes:\n",
    "            track.append(midi.NoteOffEvent(tick=(time-lastcmdtime)*tickscale, pitch=note+lowerBound))\n",
    "            lastcmdtime = time\n",
    "        for note in onNotes:\n",
    "            track.append(midi.NoteOnEvent(tick=(time-lastcmdtime)*tickscale, velocity=40, pitch=note+lowerBound))\n",
    "            lastcmdtime = time\n",
    "            \n",
    "        prevstate = state\n",
    "    \n",
    "    eot = midi.EndOfTrackEvent(tick=1)\n",
    "    track.append(eot)\n",
    "\n",
    "    midi.write_midifile(\"{}.mid\".format(name), pattern)\n"
   ]
  },
  {
   "cell_type": "code",
   "execution_count": 26,
   "metadata": {
    "collapsed": false
   },
   "outputs": [],
   "source": [
    "def midiToNoteStateMatrix(midifile):\n",
    "\n",
    "    pattern = midi.read_midifile(midifile)\n",
    "\n",
    "    timeleft = [track[0].tick for track in pattern]\n",
    "\n",
    "    posns = [0 for track in pattern]\n",
    "\n",
    "    statematrix = []\n",
    "    span = upperBound-lowerBound\n",
    "    time = 0\n",
    "\n",
    "    state = [[0,0] for x in range(span)]\n",
    "    statematrix.append(state)\n",
    "    while True:\n",
    "        if time % (pattern.resolution / 4) == (pattern.resolution / 8):\n",
    "            # Crossed a note boundary. Create a new state, defaulting to holding notes\n",
    "            oldstate = state\n",
    "            state = [[oldstate[x][0],0] for x in range(span)]\n",
    "            statematrix.append(state)\n",
    "\n",
    "        for i in range(len(timeleft)):\n",
    "            while timeleft[i] == 0:\n",
    "                track = pattern[i]\n",
    "                pos = posns[i]\n",
    "\n",
    "                evt = track[pos]\n",
    "                if isinstance(evt, midi.NoteEvent):\n",
    "                    if (evt.pitch < lowerBound) or (evt.pitch >= upperBound):\n",
    "                        pass\n",
    "                        # print \"Note {} at time {} out of bounds (ignoring)\".format(evt.pitch, time)\n",
    "                    else:\n",
    "                        if isinstance(evt, midi.NoteOffEvent) or evt.velocity == 0:\n",
    "                            state[evt.pitch-lowerBound] = [0, 0]\n",
    "                        else:\n",
    "                            state[evt.pitch-lowerBound] = [1, 1]\n",
    "                elif isinstance(evt, midi.TimeSignatureEvent):\n",
    "                    if evt.numerator not in (2, 4):\n",
    "                        # We don't want to worry about non-4 time signatures. Bail early!\n",
    "                        # print \"Found time signature event {}. Bailing!\".format(evt)\n",
    "                        return statematrix\n",
    "\n",
    "                try:\n",
    "                    timeleft[i] = track[pos + 1].tick\n",
    "                    posns[i] += 1\n",
    "                except IndexError:\n",
    "                    timeleft[i] = None\n",
    "\n",
    "            if timeleft[i] is not None:\n",
    "                timeleft[i] -= 1\n",
    "\n",
    "        if all(t is None for t in timeleft):\n",
    "            break\n",
    "\n",
    "        time += 1\n",
    "\n",
    "    return statematrix"
   ]
  },
  {
   "cell_type": "code",
   "execution_count": 27,
   "metadata": {
    "collapsed": false
   },
   "outputs": [
    {
     "data": {
      "text/plain": [
       "[0]"
      ]
     },
     "execution_count": 27,
     "metadata": {},
     "output_type": "execute_result"
    }
   ],
   "source": [
    "posns"
   ]
  },
  {
   "cell_type": "code",
   "execution_count": 23,
   "metadata": {
    "collapsed": false
   },
   "outputs": [
    {
     "data": {
      "text/plain": [
       "[0]"
      ]
     },
     "execution_count": 23,
     "metadata": {},
     "output_type": "execute_result"
    }
   ],
   "source": [
    "timeleft = [track[0].tick for track in pattern]\n",
    "timeleft"
   ]
  },
  {
   "cell_type": "code",
   "execution_count": 28,
   "metadata": {
    "collapsed": true
   },
   "outputs": [],
   "source": [
    "x = midiToNoteStateMatrix('data/ABBA_-_Dancing_Queen.mid')"
   ]
  },
  {
   "cell_type": "code",
   "execution_count": null,
   "metadata": {
    "collapsed": true
   },
   "outputs": [],
   "source": []
  },
  {
   "cell_type": "code",
   "execution_count": 3,
   "metadata": {
    "collapsed": true
   },
   "outputs": [],
   "source": [
    "with open(\"data/twinkle.mid\") as midifile:\n",
    "    pattern = midi.read_midifile(midifile)\n",
    "\n",
    "    timeleft = [track[0].tick for track in pattern]\n",
    "\n",
    "    posns = [0 for track in pattern]\n",
    "\n",
    "    statematrix = []\n",
    "    span = upperBound-lowerBound\n",
    "    time = 0\n",
    "\n",
    "    state = [[0,0] for x in range(span)]\n",
    "    statematrix.append(state)\n"
   ]
  },
  {
   "cell_type": "code",
   "execution_count": null,
   "metadata": {
    "collapsed": true
   },
   "outputs": [],
   "source": [
    "while True:\n",
    "    if time % (pattern.resolution / 4) == (pattern.resolution / 8):\n",
    "        # Crossed a note boundary. Create a new state, defaulting to holding notes\n",
    "        oldstate = state\n",
    "        state = [[oldstate[x][0],0] for x in range(span)]\n",
    "        statematrix.append(state)\n",
    "\n",
    "    for i in range(len(timeleft)):\n",
    "        while timeleft[i] == 0:\n",
    "            track = pattern[i]\n",
    "            pos = posns[i]\n",
    "\n",
    "            evt = track[pos]\n",
    "            if isinstance(evt, midi.NoteEvent):\n",
    "                if (evt.pitch < lowerBound) or (evt.pitch >= upperBound):\n",
    "                    pass\n",
    "                    # print \"Note {} at time {} out of bounds (ignoring)\".format(evt.pitch, time)\n",
    "                else:\n",
    "                    if isinstance(evt, midi.NoteOffEvent) or evt.velocity == 0:\n",
    "                        state[evt.pitch-lowerBound] = [0, 0]\n",
    "                    else:\n",
    "                        state[evt.pitch-lowerBound] = [1, 1]\n",
    "            elif isinstance(evt, midi.TimeSignatureEvent):\n",
    "                if evt.numerator not in (2, 4):\n",
    "                    # We don't want to worry about non-4 time signatures. Bail early!\n",
    "                    # print \"Found time signature event {}. Bailing!\".format(evt)\n",
    "                    return statematrix\n",
    "\n",
    "            try:\n",
    "                timeleft[i] = track[pos + 1].tick\n",
    "                posns[i] += 1\n",
    "            except IndexError:\n",
    "                timeleft[i] = None\n",
    "\n",
    "        if timeleft[i] is not None:\n",
    "            timeleft[i] -= 1\n",
    "\n",
    "    if all(t is None for t in timeleft):\n",
    "        break\n",
    "\n",
    "    time += 1"
   ]
  },
  {
   "cell_type": "code",
   "execution_count": 2,
   "metadata": {
    "collapsed": true
   },
   "outputs": [],
   "source": [
    "    mat = midiToNoteStateMatrix(f)"
   ]
  },
  {
   "cell_type": "code",
   "execution_count": 12,
   "metadata": {
    "collapsed": false
   },
   "outputs": [],
   "source": [
    "dat = []\n",
    "for x in mat:\n",
    "    for y in x:\n",
    "        if sum(y) > 0 :\n",
    "            dat.append(y)"
   ]
  },
  {
   "cell_type": "code",
   "execution_count": null,
   "metadata": {
    "collapsed": true
   },
   "outputs": [],
   "source": [
    "mid = mido.MidiFile('data/twinkle.mid')\n",
    "mid2 = mido.MidiFile('data/twinkle_twinkle.mid')"
   ]
  }
 ],
 "metadata": {
  "anaconda-cloud": {},
  "kernelspec": {
   "display_name": "Python [conda root]",
   "language": "python",
   "name": "conda-root-py"
  },
  "language_info": {
   "codemirror_mode": {
    "name": "ipython",
    "version": 2
   },
   "file_extension": ".py",
   "mimetype": "text/x-python",
   "name": "python",
   "nbconvert_exporter": "python",
   "pygments_lexer": "ipython2",
   "version": "2.7.12"
  }
 },
 "nbformat": 4,
 "nbformat_minor": 1
}
