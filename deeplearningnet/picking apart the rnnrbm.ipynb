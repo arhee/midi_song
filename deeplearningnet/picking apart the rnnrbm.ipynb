{
 "cells": [
  {
   "cell_type": "code",
   "execution_count": 5,
   "metadata": {
    "collapsed": true
   },
   "outputs": [],
   "source": [
    "from midi.utils import midiread"
   ]
  },
  {
   "cell_type": "code",
   "execution_count": null,
   "metadata": {
    "collapsed": true
   },
   "outputs": [],
   "source": [
    "if __name__ == '__main__':\n",
    "    model = test_rnnrbm()\n",
    "    model.generate('sample1.mid')\n",
    "    model.generate('sample2.mid')\n",
    "    pylab.show()\n"
   ]
  },
  {
   "cell_type": "code",
   "execution_count": 4,
   "metadata": {
    "collapsed": false
   },
   "outputs": [
    {
     "name": "stdout",
     "output_type": "stream",
     "text": [
      "ashover_simple_chords_12.mid   reels_simple_chords_122.mid\r\n",
      "ashover_simple_chords_13.mid   reels_simple_chords_123.mid\r\n",
      "ashover_simple_chords_14.mid   reels_simple_chords_126.mid\r\n",
      "ashover_simple_chords_15.mid   reels_simple_chords_127.mid\r\n",
      "ashover_simple_chords_18.mid   reels_simple_chords_128.mid\r\n",
      "ashover_simple_chords_19.mid   reels_simple_chords_129.mid\r\n",
      "ashover_simple_chords_1.mid    reels_simple_chords_12.mid\r\n",
      "ashover_simple_chords_20.mid   reels_simple_chords_132.mid\r\n",
      "ashover_simple_chords_21.mid   reels_simple_chords_133.mid\r\n",
      "ashover_simple_chords_24.mid   reels_simple_chords_134.mid\r\n",
      "ashover_simple_chords_25.mid   reels_simple_chords_135.mid\r\n",
      "ashover_simple_chords_26.mid   reels_simple_chords_138.mid\r\n",
      "ashover_simple_chords_27.mid   reels_simple_chords_139.mid\r\n",
      "ashover_simple_chords_2.mid    reels_simple_chords_13.mid\r\n",
      "ashover_simple_chords_30.mid   reels_simple_chords_140.mid\r\n",
      "ashover_simple_chords_31.mid   reels_simple_chords_141.mid\r\n",
      "ashover_simple_chords_32.mid   reels_simple_chords_144.mid\r\n",
      "ashover_simple_chords_33.mid   reels_simple_chords_145.mid\r\n",
      "ashover_simple_chords_36.mid   reels_simple_chords_146.mid\r\n",
      "ashover_simple_chords_37.mid   reels_simple_chords_147.mid\r\n",
      "ashover_simple_chords_38.mid   reels_simple_chords_14.mid\r\n",
      "ashover_simple_chords_39.mid   reels_simple_chords_150.mid\r\n",
      "ashover_simple_chords_3.mid    reels_simple_chords_151.mid\r\n",
      "ashover_simple_chords_42.mid   reels_simple_chords_152.mid\r\n",
      "ashover_simple_chords_43.mid   reels_simple_chords_153.mid\r\n",
      "ashover_simple_chords_44.mid   reels_simple_chords_156.mid\r\n",
      "ashover_simple_chords_45.mid   reels_simple_chords_157.mid\r\n",
      "ashover_simple_chords_6.mid    reels_simple_chords_158.mid\r\n",
      "ashover_simple_chords_7.mid    reels_simple_chords_159.mid\r\n",
      "ashover_simple_chords_8.mid    reels_simple_chords_15.mid\r\n",
      "ashover_simple_chords_9.mid    reels_simple_chords_162.mid\r\n",
      "hpps_simple_chords_12.mid      reels_simple_chords_163.mid\r\n",
      "hpps_simple_chords_13.mid      reels_simple_chords_164.mid\r\n",
      "hpps_simple_chords_14.mid      reels_simple_chords_165.mid\r\n",
      "hpps_simple_chords_15.mid      reels_simple_chords_168.mid\r\n",
      "hpps_simple_chords_18.mid      reels_simple_chords_169.mid\r\n",
      "hpps_simple_chords_19.mid      reels_simple_chords_170.mid\r\n",
      "hpps_simple_chords_1.mid       reels_simple_chords_171.mid\r\n",
      "hpps_simple_chords_20.mid      reels_simple_chords_174.mid\r\n",
      "hpps_simple_chords_21.mid      reels_simple_chords_175.mid\r\n",
      "hpps_simple_chords_24.mid      reels_simple_chords_176.mid\r\n",
      "hpps_simple_chords_25.mid      reels_simple_chords_177.mid\r\n",
      "hpps_simple_chords_26.mid      reels_simple_chords_180.mid\r\n",
      "hpps_simple_chords_27.mid      reels_simple_chords_181.mid\r\n",
      "hpps_simple_chords_2.mid       reels_simple_chords_182.mid\r\n",
      "hpps_simple_chords_30.mid      reels_simple_chords_183.mid\r\n",
      "hpps_simple_chords_31.mid      reels_simple_chords_186.mid\r\n",
      "hpps_simple_chords_32.mid      reels_simple_chords_187.mid\r\n",
      "hpps_simple_chords_33.mid      reels_simple_chords_188.mid\r\n",
      "hpps_simple_chords_36.mid      reels_simple_chords_189.mid\r\n",
      "hpps_simple_chords_37.mid      reels_simple_chords_18.mid\r\n",
      "hpps_simple_chords_38.mid      reels_simple_chords_192.mid\r\n",
      "hpps_simple_chords_39.mid      reels_simple_chords_193.mid\r\n",
      "hpps_simple_chords_3.mid       reels_simple_chords_194.mid\r\n",
      "hpps_simple_chords_42.mid      reels_simple_chords_195.mid\r\n",
      "hpps_simple_chords_43.mid      reels_simple_chords_198.mid\r\n",
      "hpps_simple_chords_44.mid      reels_simple_chords_199.mid\r\n",
      "hpps_simple_chords_45.mid      reels_simple_chords_19.mid\r\n",
      "hpps_simple_chords_48.mid      reels_simple_chords_1.mid\r\n",
      "hpps_simple_chords_49.mid      reels_simple_chords_200.mid\r\n",
      "hpps_simple_chords_50.mid      reels_simple_chords_201.mid\r\n",
      "hpps_simple_chords_51.mid      reels_simple_chords_204.mid\r\n",
      "hpps_simple_chords_54.mid      reels_simple_chords_205.mid\r\n",
      "hpps_simple_chords_55.mid      reels_simple_chords_206.mid\r\n",
      "hpps_simple_chords_56.mid      reels_simple_chords_207.mid\r\n",
      "hpps_simple_chords_57.mid      reels_simple_chords_20.mid\r\n",
      "hpps_simple_chords_60.mid      reels_simple_chords_210.mid\r\n",
      "hpps_simple_chords_61.mid      reels_simple_chords_211.mid\r\n",
      "hpps_simple_chords_62.mid      reels_simple_chords_212.mid\r\n",
      "hpps_simple_chords_63.mid      reels_simple_chords_213.mid\r\n",
      "hpps_simple_chords_6.mid       reels_simple_chords_216.mid\r\n",
      "hpps_simple_chords_7.mid       reels_simple_chords_217.mid\r\n",
      "hpps_simple_chords_8.mid       reels_simple_chords_218.mid\r\n",
      "hpps_simple_chords_9.mid       reels_simple_chords_219.mid\r\n",
      "jigs_simple_chords_102.mid     reels_simple_chords_21.mid\r\n",
      "jigs_simple_chords_103.mid     reels_simple_chords_222.mid\r\n",
      "jigs_simple_chords_104.mid     reels_simple_chords_223.mid\r\n",
      "jigs_simple_chords_105.mid     reels_simple_chords_224.mid\r\n",
      "jigs_simple_chords_108.mid     reels_simple_chords_225.mid\r\n",
      "jigs_simple_chords_109.mid     reels_simple_chords_228.mid\r\n",
      "jigs_simple_chords_110.mid     reels_simple_chords_229.mid\r\n",
      "jigs_simple_chords_111.mid     reels_simple_chords_230.mid\r\n",
      "jigs_simple_chords_114.mid     reels_simple_chords_231.mid\r\n",
      "jigs_simple_chords_115.mid     reels_simple_chords_234.mid\r\n",
      "jigs_simple_chords_116.mid     reels_simple_chords_235.mid\r\n",
      "jigs_simple_chords_117.mid     reels_simple_chords_236.mid\r\n",
      "jigs_simple_chords_120.mid     reels_simple_chords_237.mid\r\n",
      "jigs_simple_chords_121.mid     reels_simple_chords_240.mid\r\n",
      "jigs_simple_chords_122.mid     reels_simple_chords_241.mid\r\n",
      "jigs_simple_chords_123.mid     reels_simple_chords_242.mid\r\n",
      "jigs_simple_chords_126.mid     reels_simple_chords_243.mid\r\n",
      "jigs_simple_chords_127.mid     reels_simple_chords_246.mid\r\n",
      "jigs_simple_chords_128.mid     reels_simple_chords_247.mid\r\n",
      "jigs_simple_chords_129.mid     reels_simple_chords_248.mid\r\n",
      "jigs_simple_chords_12.mid      reels_simple_chords_249.mid\r\n",
      "jigs_simple_chords_132.mid     reels_simple_chords_24.mid\r\n",
      "jigs_simple_chords_133.mid     reels_simple_chords_252.mid\r\n",
      "jigs_simple_chords_134.mid     reels_simple_chords_253.mid\r\n",
      "jigs_simple_chords_135.mid     reels_simple_chords_254.mid\r\n",
      "jigs_simple_chords_138.mid     reels_simple_chords_255.mid\r\n",
      "jigs_simple_chords_139.mid     reels_simple_chords_258.mid\r\n",
      "jigs_simple_chords_13.mid      reels_simple_chords_259.mid\r\n",
      "jigs_simple_chords_140.mid     reels_simple_chords_25.mid\r\n",
      "jigs_simple_chords_141.mid     reels_simple_chords_260.mid\r\n",
      "jigs_simple_chords_144.mid     reels_simple_chords_261.mid\r\n",
      "jigs_simple_chords_145.mid     reels_simple_chords_264.mid\r\n",
      "jigs_simple_chords_146.mid     reels_simple_chords_265.mid\r\n",
      "jigs_simple_chords_147.mid     reels_simple_chords_266.mid\r\n",
      "jigs_simple_chords_14.mid      reels_simple_chords_267.mid\r\n",
      "jigs_simple_chords_150.mid     reels_simple_chords_26.mid\r\n",
      "jigs_simple_chords_151.mid     reels_simple_chords_270.mid\r\n",
      "jigs_simple_chords_152.mid     reels_simple_chords_271.mid\r\n",
      "jigs_simple_chords_153.mid     reels_simple_chords_272.mid\r\n",
      "jigs_simple_chords_156.mid     reels_simple_chords_273.mid\r\n",
      "jigs_simple_chords_157.mid     reels_simple_chords_276.mid\r\n",
      "jigs_simple_chords_158.mid     reels_simple_chords_277.mid\r\n",
      "jigs_simple_chords_159.mid     reels_simple_chords_278.mid\r\n",
      "jigs_simple_chords_15.mid      reels_simple_chords_279.mid\r\n",
      "jigs_simple_chords_162.mid     reels_simple_chords_27.mid\r\n",
      "jigs_simple_chords_163.mid     reels_simple_chords_282.mid\r\n",
      "jigs_simple_chords_164.mid     reels_simple_chords_283.mid\r\n",
      "jigs_simple_chords_165.mid     reels_simple_chords_284.mid\r\n",
      "jigs_simple_chords_168.mid     reels_simple_chords_285.mid\r\n",
      "jigs_simple_chords_169.mid     reels_simple_chords_288.mid\r\n",
      "jigs_simple_chords_170.mid     reels_simple_chords_289.mid\r\n",
      "jigs_simple_chords_171.mid     reels_simple_chords_290.mid\r\n",
      "jigs_simple_chords_174.mid     reels_simple_chords_291.mid\r\n",
      "jigs_simple_chords_175.mid     reels_simple_chords_294.mid\r\n",
      "jigs_simple_chords_176.mid     reels_simple_chords_295.mid\r\n",
      "jigs_simple_chords_177.mid     reels_simple_chords_296.mid\r\n",
      "jigs_simple_chords_180.mid     reels_simple_chords_297.mid\r\n",
      "jigs_simple_chords_181.mid     reels_simple_chords_2.mid\r\n",
      "jigs_simple_chords_182.mid     reels_simple_chords_300.mid\r\n",
      "jigs_simple_chords_183.mid     reels_simple_chords_301.mid\r\n",
      "jigs_simple_chords_186.mid     reels_simple_chords_302.mid\r\n",
      "jigs_simple_chords_187.mid     reels_simple_chords_303.mid\r\n",
      "jigs_simple_chords_188.mid     reels_simple_chords_306.mid\r\n",
      "jigs_simple_chords_189.mid     reels_simple_chords_307.mid\r\n",
      "jigs_simple_chords_18.mid      reels_simple_chords_308.mid\r\n",
      "jigs_simple_chords_192.mid     reels_simple_chords_309.mid\r\n",
      "jigs_simple_chords_193.mid     reels_simple_chords_30.mid\r\n",
      "jigs_simple_chords_194.mid     reels_simple_chords_312.mid\r\n",
      "jigs_simple_chords_195.mid     reels_simple_chords_313.mid\r\n",
      "jigs_simple_chords_198.mid     reels_simple_chords_314.mid\r\n",
      "jigs_simple_chords_199.mid     reels_simple_chords_315.mid\r\n",
      "jigs_simple_chords_19.mid      reels_simple_chords_318.mid\r\n",
      "jigs_simple_chords_1.mid       reels_simple_chords_319.mid\r\n",
      "jigs_simple_chords_200.mid     reels_simple_chords_31.mid\r\n",
      "jigs_simple_chords_201.mid     reels_simple_chords_320.mid\r\n",
      "jigs_simple_chords_204.mid     reels_simple_chords_321.mid\r\n",
      "jigs_simple_chords_205.mid     reels_simple_chords_324.mid\r\n",
      "jigs_simple_chords_206.mid     reels_simple_chords_325.mid\r\n",
      "jigs_simple_chords_207.mid     reels_simple_chords_326.mid\r\n",
      "jigs_simple_chords_20.mid      reels_simple_chords_327.mid\r\n",
      "jigs_simple_chords_210.mid     reels_simple_chords_32.mid\r\n",
      "jigs_simple_chords_211.mid     reels_simple_chords_330.mid\r\n",
      "jigs_simple_chords_212.mid     reels_simple_chords_331.mid\r\n",
      "jigs_simple_chords_213.mid     reels_simple_chords_332.mid\r\n",
      "jigs_simple_chords_216.mid     reels_simple_chords_333.mid\r\n",
      "jigs_simple_chords_217.mid     reels_simple_chords_336.mid\r\n",
      "jigs_simple_chords_218.mid     reels_simple_chords_337.mid\r\n",
      "jigs_simple_chords_219.mid     reels_simple_chords_338.mid\r\n",
      "jigs_simple_chords_21.mid      reels_simple_chords_339.mid\r\n",
      "jigs_simple_chords_222.mid     reels_simple_chords_33.mid\r\n",
      "jigs_simple_chords_223.mid     reels_simple_chords_342.mid\r\n",
      "jigs_simple_chords_224.mid     reels_simple_chords_343.mid\r\n",
      "jigs_simple_chords_225.mid     reels_simple_chords_344.mid\r\n",
      "jigs_simple_chords_228.mid     reels_simple_chords_345.mid\r\n",
      "jigs_simple_chords_229.mid     reels_simple_chords_348.mid\r\n",
      "jigs_simple_chords_230.mid     reels_simple_chords_349.mid\r\n",
      "jigs_simple_chords_231.mid     reels_simple_chords_350.mid\r\n",
      "jigs_simple_chords_234.mid     reels_simple_chords_351.mid\r\n",
      "jigs_simple_chords_235.mid     reels_simple_chords_354.mid\r\n",
      "jigs_simple_chords_236.mid     reels_simple_chords_355.mid\r\n",
      "jigs_simple_chords_237.mid     reels_simple_chords_356.mid\r\n",
      "jigs_simple_chords_240.mid     reels_simple_chords_357.mid\r\n",
      "jigs_simple_chords_241.mid     reels_simple_chords_360.mid\r\n",
      "jigs_simple_chords_242.mid     reels_simple_chords_361.mid\r\n",
      "jigs_simple_chords_243.mid     reels_simple_chords_362.mid\r\n",
      "jigs_simple_chords_246.mid     reels_simple_chords_363.mid\r\n",
      "jigs_simple_chords_247.mid     reels_simple_chords_366.mid\r\n",
      "jigs_simple_chords_248.mid     reels_simple_chords_367.mid\r\n",
      "jigs_simple_chords_249.mid     reels_simple_chords_368.mid\r\n",
      "jigs_simple_chords_24.mid      reels_simple_chords_369.mid\r\n",
      "jigs_simple_chords_252.mid     reels_simple_chords_36.mid\r\n",
      "jigs_simple_chords_253.mid     reels_simple_chords_372.mid\r\n",
      "jigs_simple_chords_254.mid     reels_simple_chords_373.mid\r\n",
      "jigs_simple_chords_255.mid     reels_simple_chords_374.mid\r\n",
      "jigs_simple_chords_258.mid     reels_simple_chords_375.mid\r\n",
      "jigs_simple_chords_259.mid     reels_simple_chords_378.mid\r\n",
      "jigs_simple_chords_25.mid      reels_simple_chords_379.mid\r\n",
      "jigs_simple_chords_260.mid     reels_simple_chords_37.mid\r\n",
      "jigs_simple_chords_261.mid     reels_simple_chords_380.mid\r\n",
      "jigs_simple_chords_264.mid     reels_simple_chords_381.mid\r\n",
      "jigs_simple_chords_265.mid     reels_simple_chords_384.mid\r\n",
      "jigs_simple_chords_266.mid     reels_simple_chords_385.mid\r\n",
      "jigs_simple_chords_267.mid     reels_simple_chords_386.mid\r\n",
      "jigs_simple_chords_26.mid      reels_simple_chords_387.mid\r\n",
      "jigs_simple_chords_270.mid     reels_simple_chords_38.mid\r\n",
      "jigs_simple_chords_271.mid     reels_simple_chords_390.mid\r\n",
      "jigs_simple_chords_272.mid     reels_simple_chords_391.mid\r\n",
      "jigs_simple_chords_273.mid     reels_simple_chords_392.mid\r\n",
      "jigs_simple_chords_276.mid     reels_simple_chords_393.mid\r\n",
      "jigs_simple_chords_277.mid     reels_simple_chords_396.mid\r\n",
      "jigs_simple_chords_278.mid     reels_simple_chords_397.mid\r\n",
      "jigs_simple_chords_279.mid     reels_simple_chords_398.mid\r\n",
      "jigs_simple_chords_27.mid      reels_simple_chords_399.mid\r\n",
      "jigs_simple_chords_282.mid     reels_simple_chords_39.mid\r\n",
      "jigs_simple_chords_283.mid     reels_simple_chords_3.mid\r\n",
      "jigs_simple_chords_284.mid     reels_simple_chords_402.mid\r\n",
      "jigs_simple_chords_285.mid     reels_simple_chords_403.mid\r\n",
      "jigs_simple_chords_288.mid     reels_simple_chords_404.mid\r\n",
      "jigs_simple_chords_289.mid     reels_simple_chords_405.mid\r\n",
      "jigs_simple_chords_290.mid     reels_simple_chords_408.mid\r\n",
      "jigs_simple_chords_291.mid     reels_simple_chords_409.mid\r\n",
      "jigs_simple_chords_294.mid     reels_simple_chords_410.mid\r\n",
      "jigs_simple_chords_295.mid     reels_simple_chords_411.mid\r\n",
      "jigs_simple_chords_296.mid     reels_simple_chords_414.mid\r\n",
      "jigs_simple_chords_297.mid     reels_simple_chords_415.mid\r\n",
      "jigs_simple_chords_2.mid       reels_simple_chords_416.mid\r\n",
      "jigs_simple_chords_300.mid     reels_simple_chords_417.mid\r\n",
      "jigs_simple_chords_301.mid     reels_simple_chords_420.mid\r\n",
      "jigs_simple_chords_302.mid     reels_simple_chords_421.mid\r\n",
      "jigs_simple_chords_303.mid     reels_simple_chords_422.mid\r\n",
      "jigs_simple_chords_306.mid     reels_simple_chords_423.mid\r\n",
      "jigs_simple_chords_307.mid     reels_simple_chords_426.mid\r\n",
      "jigs_simple_chords_308.mid     reels_simple_chords_427.mid\r\n",
      "jigs_simple_chords_309.mid     reels_simple_chords_428.mid\r\n",
      "jigs_simple_chords_30.mid      reels_simple_chords_429.mid\r\n",
      "jigs_simple_chords_312.mid     reels_simple_chords_42.mid\r\n",
      "jigs_simple_chords_313.mid     reels_simple_chords_432.mid\r\n",
      "jigs_simple_chords_314.mid     reels_simple_chords_433.mid\r\n",
      "jigs_simple_chords_315.mid     reels_simple_chords_434.mid\r\n",
      "jigs_simple_chords_318.mid     reels_simple_chords_435.mid\r\n",
      "jigs_simple_chords_319.mid     reels_simple_chords_438.mid\r\n",
      "jigs_simple_chords_31.mid      reels_simple_chords_439.mid\r\n",
      "jigs_simple_chords_320.mid     reels_simple_chords_43.mid\r\n",
      "jigs_simple_chords_321.mid     reels_simple_chords_440.mid\r\n",
      "jigs_simple_chords_324.mid     reels_simple_chords_441.mid\r\n",
      "jigs_simple_chords_325.mid     reels_simple_chords_444.mid\r\n",
      "jigs_simple_chords_326.mid     reels_simple_chords_445.mid\r\n",
      "jigs_simple_chords_327.mid     reels_simple_chords_446.mid\r\n",
      "jigs_simple_chords_32.mid      reels_simple_chords_447.mid\r\n",
      "jigs_simple_chords_330.mid     reels_simple_chords_44.mid\r\n",
      "jigs_simple_chords_331.mid     reels_simple_chords_450.mid\r\n",
      "jigs_simple_chords_332.mid     reels_simple_chords_451.mid\r\n",
      "jigs_simple_chords_333.mid     reels_simple_chords_452.mid\r\n",
      "jigs_simple_chords_336.mid     reels_simple_chords_453.mid\r\n",
      "jigs_simple_chords_337.mid     reels_simple_chords_456.mid\r\n",
      "jigs_simple_chords_338.mid     reels_simple_chords_457.mid\r\n",
      "jigs_simple_chords_339.mid     reels_simple_chords_458.mid\r\n",
      "jigs_simple_chords_33.mid      reels_simple_chords_459.mid\r\n",
      "jigs_simple_chords_36.mid      reels_simple_chords_45.mid\r\n",
      "jigs_simple_chords_37.mid      reels_simple_chords_462.mid\r\n",
      "jigs_simple_chords_38.mid      reels_simple_chords_463.mid\r\n",
      "jigs_simple_chords_39.mid      reels_simple_chords_464.mid\r\n",
      "jigs_simple_chords_3.mid       reels_simple_chords_48.mid\r\n",
      "jigs_simple_chords_42.mid      reels_simple_chords_49.mid\r\n",
      "jigs_simple_chords_43.mid      reels_simple_chords_50.mid\r\n",
      "jigs_simple_chords_44.mid      reels_simple_chords_51.mid\r\n",
      "jigs_simple_chords_45.mid      reels_simple_chords_54.mid\r\n",
      "jigs_simple_chords_48.mid      reels_simple_chords_55.mid\r\n",
      "jigs_simple_chords_49.mid      reels_simple_chords_56.mid\r\n",
      "jigs_simple_chords_50.mid      reels_simple_chords_57.mid\r\n",
      "jigs_simple_chords_51.mid      reels_simple_chords_60.mid\r\n",
      "jigs_simple_chords_54.mid      reels_simple_chords_61.mid\r\n",
      "jigs_simple_chords_55.mid      reels_simple_chords_62.mid\r\n",
      "jigs_simple_chords_56.mid      reels_simple_chords_63.mid\r\n",
      "jigs_simple_chords_57.mid      reels_simple_chords_66.mid\r\n",
      "jigs_simple_chords_60.mid      reels_simple_chords_67.mid\r\n",
      "jigs_simple_chords_61.mid      reels_simple_chords_68.mid\r\n",
      "jigs_simple_chords_62.mid      reels_simple_chords_69.mid\r\n",
      "jigs_simple_chords_63.mid      reels_simple_chords_6.mid\r\n",
      "jigs_simple_chords_66.mid      reels_simple_chords_72.mid\r\n",
      "jigs_simple_chords_67.mid      reels_simple_chords_73.mid\r\n",
      "jigs_simple_chords_68.mid      reels_simple_chords_74.mid\r\n",
      "jigs_simple_chords_69.mid      reels_simple_chords_75.mid\r\n",
      "jigs_simple_chords_6.mid       reels_simple_chords_78.mid\r\n",
      "jigs_simple_chords_72.mid      reels_simple_chords_79.mid\r\n",
      "jigs_simple_chords_73.mid      reels_simple_chords_7.mid\r\n",
      "jigs_simple_chords_74.mid      reels_simple_chords_80.mid\r\n",
      "jigs_simple_chords_75.mid      reels_simple_chords_81.mid\r\n",
      "jigs_simple_chords_78.mid      reels_simple_chords_84.mid\r\n",
      "jigs_simple_chords_79.mid      reels_simple_chords_85.mid\r\n",
      "jigs_simple_chords_7.mid       reels_simple_chords_86.mid\r\n",
      "jigs_simple_chords_80.mid      reels_simple_chords_87.mid\r\n",
      "jigs_simple_chords_81.mid      reels_simple_chords_8.mid\r\n",
      "jigs_simple_chords_84.mid      reels_simple_chords_90.mid\r\n",
      "jigs_simple_chords_85.mid      reels_simple_chords_91.mid\r\n",
      "jigs_simple_chords_86.mid      reels_simple_chords_92.mid\r\n",
      "jigs_simple_chords_87.mid      reels_simple_chords_93.mid\r\n",
      "jigs_simple_chords_8.mid       reels_simple_chords_96.mid\r\n",
      "jigs_simple_chords_90.mid      reels_simple_chords_97.mid\r\n",
      "jigs_simple_chords_91.mid      reels_simple_chords_98.mid\r\n",
      "jigs_simple_chords_92.mid      reels_simple_chords_99.mid\r\n",
      "jigs_simple_chords_93.mid      reels_simple_chords_9.mid\r\n",
      "jigs_simple_chords_96.mid      slip_simple_chords_1.mid\r\n",
      "jigs_simple_chords_97.mid      slip_simple_chords_2.mid\r\n",
      "jigs_simple_chords_98.mid      slip_simple_chords_3.mid\r\n",
      "jigs_simple_chords_99.mid      slip_simple_chords_6.mid\r\n",
      "jigs_simple_chords_9.mid       slip_simple_chords_7.mid\r\n",
      "morris_simple_chords_12.mid    slip_simple_chords_8.mid\r\n",
      "morris_simple_chords_13.mid    slip_simple_chords_9.mid\r\n",
      "morris_simple_chords_14.mid    waltzes_simple_chords_12.mid\r\n",
      "morris_simple_chords_15.mid    waltzes_simple_chords_13.mid\r\n",
      "morris_simple_chords_18.mid    waltzes_simple_chords_14.mid\r\n",
      "morris_simple_chords_19.mid    waltzes_simple_chords_15.mid\r\n",
      "morris_simple_chords_1.mid     waltzes_simple_chords_18.mid\r\n",
      "morris_simple_chords_20.mid    waltzes_simple_chords_19.mid\r\n",
      "morris_simple_chords_21.mid    waltzes_simple_chords_1.mid\r\n",
      "morris_simple_chords_24.mid    waltzes_simple_chords_20.mid\r\n",
      "morris_simple_chords_25.mid    waltzes_simple_chords_21.mid\r\n",
      "morris_simple_chords_26.mid    waltzes_simple_chords_24.mid\r\n",
      "morris_simple_chords_27.mid    waltzes_simple_chords_25.mid\r\n",
      "morris_simple_chords_2.mid     waltzes_simple_chords_26.mid\r\n",
      "morris_simple_chords_30.mid    waltzes_simple_chords_27.mid\r\n",
      "morris_simple_chords_31.mid    waltzes_simple_chords_2.mid\r\n",
      "morris_simple_chords_3.mid     waltzes_simple_chords_30.mid\r\n",
      "morris_simple_chords_6.mid     waltzes_simple_chords_31.mid\r\n",
      "morris_simple_chords_7.mid     waltzes_simple_chords_32.mid\r\n",
      "morris_simple_chords_8.mid     waltzes_simple_chords_33.mid\r\n",
      "morris_simple_chords_9.mid     waltzes_simple_chords_36.mid\r\n",
      "playford_simple_chords_12.mid  waltzes_simple_chords_37.mid\r\n",
      "playford_simple_chords_13.mid  waltzes_simple_chords_38.mid\r\n",
      "playford_simple_chords_14.mid  waltzes_simple_chords_39.mid\r\n",
      "playford_simple_chords_15.mid  waltzes_simple_chords_3.mid\r\n",
      "playford_simple_chords_1.mid   waltzes_simple_chords_42.mid\r\n",
      "playford_simple_chords_2.mid   waltzes_simple_chords_43.mid\r\n",
      "playford_simple_chords_3.mid   waltzes_simple_chords_44.mid\r\n",
      "playford_simple_chords_6.mid   waltzes_simple_chords_45.mid\r\n",
      "playford_simple_chords_7.mid   waltzes_simple_chords_48.mid\r\n",
      "playford_simple_chords_8.mid   waltzes_simple_chords_49.mid\r\n",
      "playford_simple_chords_9.mid   waltzes_simple_chords_50.mid\r\n",
      "reels_simple_chords_102.mid    waltzes_simple_chords_51.mid\r\n",
      "reels_simple_chords_103.mid    waltzes_simple_chords_6.mid\r\n",
      "reels_simple_chords_104.mid    waltzes_simple_chords_7.mid\r\n",
      "reels_simple_chords_105.mid    waltzes_simple_chords_8.mid\r\n",
      "reels_simple_chords_108.mid    waltzes_simple_chords_9.mid\r\n",
      "reels_simple_chords_109.mid    xmas_simple_chords_12.mid\r\n",
      "reels_simple_chords_110.mid    xmas_simple_chords_13.mid\r\n",
      "reels_simple_chords_111.mid    xmas_simple_chords_1.mid\r\n",
      "reels_simple_chords_114.mid    xmas_simple_chords_2.mid\r\n",
      "reels_simple_chords_115.mid    xmas_simple_chords_3.mid\r\n",
      "reels_simple_chords_116.mid    xmas_simple_chords_6.mid\r\n",
      "reels_simple_chords_117.mid    xmas_simple_chords_7.mid\r\n",
      "reels_simple_chords_120.mid    xmas_simple_chords_8.mid\r\n",
      "reels_simple_chords_121.mid    xmas_simple_chords_9.mid\r\n"
     ]
    }
   ],
   "source": [
    "ls data/Nottingham/train"
   ]
  },
  {
   "cell_type": "code",
   "execution_count": 36,
   "metadata": {
    "collapsed": false
   },
   "outputs": [],
   "source": [
    "d = midiread('../data/simple_test.mid')"
   ]
  },
  {
   "cell_type": "code",
   "execution_count": 37,
   "metadata": {
    "collapsed": false
   },
   "outputs": [],
   "source": [
    "q = d.piano_roll"
   ]
  },
  {
   "cell_type": "code",
   "execution_count": 38,
   "metadata": {
    "collapsed": false
   },
   "outputs": [
    {
     "data": {
      "text/plain": [
       "numpy.ndarray"
      ]
     },
     "execution_count": 38,
     "metadata": {},
     "output_type": "execute_result"
    }
   ],
   "source": [
    "type(q)"
   ]
  },
  {
   "cell_type": "code",
   "execution_count": 51,
   "metadata": {
    "collapsed": false
   },
   "outputs": [
    {
     "data": {
      "text/plain": [
       "array([ 1.,  1.,  1.,  1.,  1.,  1.,  1.,  1.,  1.,  1.,  0.,  0.,  0.,\n",
       "        0.,  0.,  1.,  1.,  1.,  1.,  1.,  0.,  0.,  0.,  1.,  1.,  0.,\n",
       "        0.,  0.,  1.,  1.])"
      ]
     },
     "execution_count": 51,
     "metadata": {},
     "output_type": "execute_result"
    }
   ],
   "source": [
    "q[:,34]"
   ]
  },
  {
   "cell_type": "code",
   "execution_count": 45,
   "metadata": {
    "collapsed": false
   },
   "outputs": [
    {
     "data": {
      "text/plain": [
       "[34]"
      ]
     },
     "execution_count": 45,
     "metadata": {},
     "output_type": "execute_result"
    }
   ],
   "source": [
    "[ix for ix,val in enumerate(q[2][:]) if val]"
   ]
  },
  {
   "cell_type": "code",
   "execution_count": 31,
   "metadata": {
    "collapsed": false
   },
   "outputs": [
    {
     "data": {
      "text/plain": [
       "<class midi.utils.midiread at 0x7f31793d4328>"
      ]
     },
     "execution_count": 31,
     "metadata": {},
     "output_type": "execute_result"
    }
   ],
   "source": [
    "d.__class__"
   ]
  },
  {
   "cell_type": "code",
   "execution_count": 33,
   "metadata": {
    "collapsed": false
   },
   "outputs": [
    {
     "name": "stdout",
     "output_type": "stream",
     "text": [
      "\u001b[0m\u001b[01;34mdata\u001b[0m/  inspect midi.ipynb  \u001b[01;34mmidi\u001b[0m/  picking apart the rnnrbm.ipynb  rnnrbm.py\r\n"
     ]
    }
   ],
   "source": [
    "ls"
   ]
  },
  {
   "cell_type": "code",
   "execution_count": 35,
   "metadata": {
    "collapsed": false
   },
   "outputs": [
    {
     "name": "stdout",
     "output_type": "stream",
     "text": [
      "ABBA_-_Dancing_Queen.mid  \u001b[0m\u001b[01;34mchopin\u001b[0m/                 simple_test.mid\r\n",
      "appspg13.mid              \u001b[01;34mguitar_licks\u001b[0m/           twinkle.mid\r\n",
      "bach_variations_sn.mid    mond_3.mid              twinkle_twinkle.mid\r\n",
      "bags_groove_jh.mid        pentatonic.midi\r\n",
      "beethoven_opus10_3.mid    simple_test_2notes.mid\r\n"
     ]
    }
   ],
   "source": [
    "ls ../data/simple_test.mid"
   ]
  },
  {
   "cell_type": "code",
   "execution_count": null,
   "metadata": {
    "collapsed": true
   },
   "outputs": [],
   "source": []
  },
  {
   "cell_type": "code",
   "execution_count": null,
   "metadata": {
    "collapsed": true
   },
   "outputs": [],
   "source": []
  }
 ],
 "metadata": {
  "anaconda-cloud": {},
  "kernelspec": {
   "display_name": "Python [conda root]",
   "language": "python",
   "name": "conda-root-py"
  },
  "language_info": {
   "codemirror_mode": {
    "name": "ipython",
    "version": 2
   },
   "file_extension": ".py",
   "mimetype": "text/x-python",
   "name": "python",
   "nbconvert_exporter": "python",
   "pygments_lexer": "ipython2",
   "version": "2.7.12"
  }
 },
 "nbformat": 4,
 "nbformat_minor": 1
}
