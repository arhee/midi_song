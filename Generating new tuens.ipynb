{
 "cells": [
  {
   "cell_type": "markdown",
   "metadata": {},
   "source": [
    "### This generates new songs based off of the guitar licks that were intaken"
   ]
  },
  {
   "cell_type": "code",
   "execution_count": 11,
   "metadata": {
    "collapsed": false
   },
   "outputs": [],
   "source": [
    "%matplotlib inline\n",
    "\n",
    "import mido\n",
    "from mido import Message, MidiFile, MidiTrack\n",
    "import numpy as np\n",
    "from math import ceil\n",
    "import keras\n",
    "import random\n",
    "import music21\n",
    "import glob\n",
    "import os\n",
    "import json\n",
    "\n",
    "from keras.models import Sequential\n",
    "from keras.layers import Dense\n",
    "from keras.models import model_from_json\n",
    "import numpy"
   ]
  },
  {
   "cell_type": "code",
   "execution_count": 10,
   "metadata": {
    "collapsed": false
   },
   "outputs": [
    {
     "name": "stdout",
     "output_type": "stream",
     "text": [
      "Loaded model from disk\n"
     ]
    }
   ],
   "source": [
    "# load json and create model\n",
    "with open('model.json', 'r') as json_file:\n",
    "    loaded_model_json = json_file.read()\n",
    "\n",
    "model = model_from_json(loaded_model_json)\n",
    "# load weights into new model\n",
    "model.load_weights(\"model.h5\")\n",
    "print(\"Loaded model from disk\")\n",
    " \n",
    "# evaluate loaded model on test data\n",
    "model.compile(loss='binary_crossentropy', optimizer='rmsprop', metrics=['accuracy'])"
   ]
  },
  {
   "cell_type": "code",
   "execution_count": 9,
   "metadata": {
    "collapsed": false
   },
   "outputs": [
    {
     "data": {
      "text/plain": [
       "<keras.models.Sequential at 0x7fd254bb2950>"
      ]
     },
     "execution_count": 9,
     "metadata": {},
     "output_type": "execute_result"
    }
   ],
   "source": [
    "tsteps = 100\n",
    "\n",
    "start_ix = random.randint(0, steps-maxlen - 1)\n",
    "psg_seed = music_mat[start_ix:start_ix+maxlen,:]\n",
    "x = psg_seed[None,:,:]"
   ]
  },
  {
   "cell_type": "code",
   "execution_count": null,
   "metadata": {
    "collapsed": true
   },
   "outputs": [],
   "source": []
  },
  {
   "cell_type": "code",
   "execution_count": 16,
   "metadata": {
    "collapsed": false
   },
   "outputs": [
    {
     "ename": "SyntaxError",
     "evalue": "invalid syntax (<ipython-input-16-70b5f2f28935>, line 7)",
     "output_type": "error",
     "traceback": [
      "\u001b[0;36m  File \u001b[0;32m\"<ipython-input-16-70b5f2f28935>\"\u001b[0;36m, line \u001b[0;32m7\u001b[0m\n\u001b[0;31m    .\u001b[0m\n\u001b[0m    ^\u001b[0m\n\u001b[0;31mSyntaxError\u001b[0m\u001b[0;31m:\u001b[0m invalid syntax\n"
     ]
    }
   ],
   "source": [
    "def new_song_mat(psg_seed, tsteps = 100, steps=1, maxlen):\n",
    "    \"\"\" Converts a notelist to a song matrix\n",
    "    \"\"\"\n",
    "    start_ix = random.randint(0, steps-maxlen - 1)\n",
    "    psg_seed = music_mat[start_ix:start_ix+maxlen,:]\n",
    "    x = psg_seed[None,:,:]\n",
    "\n",
    "    new_song = []\n",
    "    new_song.append(x)\n",
    "\n",
    "    for _ in range(tsteps):\n",
    "\n",
    "        preds = model.predict(x, verbose=0)[0]\n",
    "\n",
    "        # this is a timestep slice\n",
    "        new_note = np.zeros(nnotes)\n",
    "        new_note[preds.argmax()] = 1\n",
    "        new_note = new_note[None, None,:]\n",
    "\n",
    "        # redo the seed psg\n",
    "        psg = np.concatenate([x,new_note], axis=1)\n",
    "        x = psg[:, 1:,:]\n",
    "\n",
    "        new_song.append(new_note)\n",
    "\n",
    "    new_song = np.concatenate(new_song, axis=1)\n",
    "    new_song = np.squeeze(new_song)\n",
    "    return new_song"
   ]
  },
  {
   "cell_type": "code",
   "execution_count": 15,
   "metadata": {
    "collapsed": true
   },
   "outputs": [],
   "source": [
    "def notelist_to_track(new_song):   \n",
    "    \"\"\" Converts a notelist to a miditrack.\n",
    "    Assumes that adjacent notes are held\n",
    "    \"\"\"\n",
    "    track = MidiTrack()\n",
    "    nsteps = new_song.shape[0]\n",
    "    last_event = 0\n",
    "    for ix in range(nsteps):\n",
    "        step_slice = new_song[ix,:]\n",
    "\n",
    "        diff = [ix for ix,(x,y) in enumerate(zip(step_slice, active_notes)) if x!=y]\n",
    "        if len(diff) == 0:\n",
    "            last_event += 1\n",
    "            continue\n",
    "\n",
    "        # this means there is a difference\n",
    "        for note_ix in diff:\n",
    "            # off to on\n",
    "            note = note_ix+min(note_range)\n",
    "            if active_notes[note_ix] == 0:\n",
    "                track.append(Message('note_on', note=note, velocity=127, time=int(tick_step*last_event) ))\n",
    "                active_notes[note_ix] = 1\n",
    "            else:\n",
    "                track.append(Message('note_off', note=note, velocity=127, time=int(tick_step*last_event)))\n",
    "                active_notes[note_ix] = 0\n",
    "            last_event = 0\n",
    "    return track"
   ]
  },
  {
   "cell_type": "code",
   "execution_count": null,
   "metadata": {
    "collapsed": true
   },
   "outputs": [],
   "source": [
    "mid = MidiFile()\n",
    "mid.tracks.append(track)\n"
   ]
  },
  {
   "cell_type": "code",
   "execution_count": null,
   "metadata": {
    "collapsed": true
   },
   "outputs": [],
   "source": []
  },
  {
   "cell_type": "code",
   "execution_count": null,
   "metadata": {
    "collapsed": true
   },
   "outputs": [],
   "source": []
  }
 ],
 "metadata": {
  "kernelspec": {
   "display_name": "Python [default]",
   "language": "python",
   "name": "python2"
  },
  "language_info": {
   "codemirror_mode": {
    "name": "ipython",
    "version": 2
   },
   "file_extension": ".py",
   "mimetype": "text/x-python",
   "name": "python",
   "nbconvert_exporter": "python",
   "pygments_lexer": "ipython2",
   "version": "2.7.12"
  }
 },
 "nbformat": 4,
 "nbformat_minor": 1
}
