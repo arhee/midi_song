{
 "cells": [
  {
   "cell_type": "code",
   "execution_count": 67,
   "metadata": {
    "collapsed": true
   },
   "outputs": [],
   "source": [
    "import urllib\n",
    "import requests\n",
    "from bs4 import BeautifulSoup as bs\n",
    "import time\n",
    "import random"
   ]
  },
  {
   "cell_type": "code",
   "execution_count": 2,
   "metadata": {
    "collapsed": true
   },
   "outputs": [],
   "source": [
    "url = 'http://piero.irradium.net/guitar%20licks%202.htm'\n",
    "dat = requests.get(url)"
   ]
  },
  {
   "cell_type": "code",
   "execution_count": 29,
   "metadata": {
    "collapsed": false
   },
   "outputs": [],
   "source": [
    "soup =bs(dat.content, 'html')"
   ]
  },
  {
   "cell_type": "code",
   "execution_count": 13,
   "metadata": {
    "collapsed": false
   },
   "outputs": [],
   "source": [
    "base_url = 'http://piero.irradium.net/'\n",
    "\n",
    "urls = []\n",
    "for ix in range(1,22):\n",
    "    url = 'http://piero.irradium.net/' + 'GUITAR%20LICKS%20'+str(ix) + '.htm'\n",
    "    urls.append(url)"
   ]
  },
  {
   "cell_type": "code",
   "execution_count": 15,
   "metadata": {
    "collapsed": false
   },
   "outputs": [
    {
     "data": {
      "text/plain": [
       "'http://piero.irradium.net/GUITAR%20LICKS%202.htm'"
      ]
     },
     "execution_count": 15,
     "metadata": {},
     "output_type": "execute_result"
    }
   ],
   "source": [
    "urls[1]"
   ]
  },
  {
   "cell_type": "code",
   "execution_count": null,
   "metadata": {
    "collapsed": true
   },
   "outputs": [],
   "source": [
    "time.sleep"
   ]
  },
  {
   "cell_type": "code",
   "execution_count": 16,
   "metadata": {
    "collapsed": true
   },
   "outputs": [],
   "source": [
    "dat = requests.get(urls[2])"
   ]
  },
  {
   "cell_type": "code",
   "execution_count": 28,
   "metadata": {
    "collapsed": false
   },
   "outputs": [
    {
     "data": {
      "text/plain": [
       "str"
      ]
     },
     "execution_count": 28,
     "metadata": {},
     "output_type": "execute_result"
    }
   ],
   "source": [
    "type(dat.content)"
   ]
  },
  {
   "cell_type": "code",
   "execution_count": 30,
   "metadata": {
    "collapsed": true
   },
   "outputs": [],
   "source": [
    "soup = bs(dat.content)"
   ]
  },
  {
   "cell_type": "code",
   "execution_count": 34,
   "metadata": {
    "collapsed": false
   },
   "outputs": [],
   "source": [
    "al = soup.findAll('a')"
   ]
  },
  {
   "cell_type": "code",
   "execution_count": 48,
   "metadata": {
    "collapsed": false
   },
   "outputs": [],
   "source": [
    "s = al[25]"
   ]
  },
  {
   "cell_type": "code",
   "execution_count": 50,
   "metadata": {
    "collapsed": false
   },
   "outputs": [
    {
     "data": {
      "text/plain": [
       "'Lick14.mid'"
      ]
     },
     "execution_count": 50,
     "metadata": {},
     "output_type": "execute_result"
    }
   ],
   "source": [
    "s.attrs['href']"
   ]
  },
  {
   "cell_type": "code",
   "execution_count": 51,
   "metadata": {
    "collapsed": false
   },
   "outputs": [],
   "source": [
    "files = [x.attrs['href'] for x in al if x.get_text() == 'The Midi File']\n",
    "    "
   ]
  },
  {
   "cell_type": "code",
   "execution_count": 53,
   "metadata": {
    "collapsed": false
   },
   "outputs": [
    {
     "data": {
      "text/plain": [
       "['Lick11.mid',\n",
       " 'Lick12.mid',\n",
       " 'Lick13.mid',\n",
       " 'Lick14.mid',\n",
       " 'Lick15.mid',\n",
       " 'Lick16.mid',\n",
       " 'Lick17.mid']"
      ]
     },
     "execution_count": 53,
     "metadata": {},
     "output_type": "execute_result"
    }
   ],
   "source": [
    "files"
   ]
  },
  {
   "cell_type": "code",
   "execution_count": 41,
   "metadata": {
    "collapsed": false
   },
   "outputs": [
    {
     "data": {
      "text/plain": [
       "[None, None, None, None, None, None, None]"
      ]
     },
     "execution_count": 41,
     "metadata": {},
     "output_type": "execute_result"
    }
   ],
   "source": [
    "files"
   ]
  },
  {
   "cell_type": "code",
   "execution_count": 31,
   "metadata": {
    "collapsed": false
   },
   "outputs": [
    {
     "ename": "TypeError",
     "evalue": "'NoneType' object is not callable",
     "output_type": "error",
     "traceback": [
      "\u001b[0;31m\u001b[0m",
      "\u001b[0;31mTypeError\u001b[0mTraceback (most recent call last)",
      "\u001b[0;32m<ipython-input-31-72c081184a73>\u001b[0m in \u001b[0;36m<module>\u001b[0;34m()\u001b[0m\n\u001b[0;32m----> 1\u001b[0;31m \u001b[0mal\u001b[0m \u001b[0;34m=\u001b[0m \u001b[0msoup\u001b[0m\u001b[0;34m.\u001b[0m\u001b[0mfindall\u001b[0m\u001b[0;34m(\u001b[0m\u001b[0;34m'a'\u001b[0m\u001b[0;34m)\u001b[0m\u001b[0;34m\u001b[0m\u001b[0m\n\u001b[0m",
      "\u001b[0;31mTypeError\u001b[0m: 'NoneType' object is not callable"
     ]
    }
   ],
   "source": [
    "al = soup.findall('a')"
   ]
  },
  {
   "cell_type": "code",
   "execution_count": null,
   "metadata": {
    "collapsed": true
   },
   "outputs": [],
   "source": [
    "http://piero.irradium.net/Lick209.mid"
   ]
  },
  {
   "cell_type": "code",
   "execution_count": 70,
   "metadata": {
    "collapsed": false
   },
   "outputs": [
    {
     "name": "stdout",
     "output_type": "stream",
     "text": [
      "1\n",
      "success.  sleeping..\n",
      "2\n",
      "success.  sleeping..\n",
      "3\n",
      "success.  sleeping..\n",
      "4\n",
      "success.  sleeping..\n",
      "5\n",
      "success.  sleeping..\n",
      "6\n",
      "success.  sleeping..\n",
      "7\n",
      "success.  sleeping..\n",
      "8\n",
      "success.  sleeping..\n",
      "9\n",
      "success.  sleeping..\n",
      "10\n",
      "success.  sleeping..\n",
      "11\n",
      "success.  sleeping..\n",
      "12\n",
      "success.  sleeping..\n",
      "13\n",
      "success.  sleeping..\n",
      "14\n",
      "success.  sleeping..\n",
      "15\n",
      "success.  sleeping..\n",
      "16\n",
      "success.  sleeping..\n",
      "17\n",
      "success.  sleeping..\n",
      "18\n",
      "success.  sleeping..\n",
      "19\n",
      "success.  sleeping..\n",
      "20\n",
      "success.  sleeping..\n",
      "21\n",
      "success.  sleeping..\n",
      "22\n",
      "success.  sleeping..\n",
      "23\n",
      "success.  sleeping..\n",
      "24\n",
      "success.  sleeping..\n",
      "25\n",
      "success.  sleeping..\n",
      "26\n",
      "success.  sleeping..\n",
      "27\n",
      "success.  sleeping..\n",
      "28\n",
      "success.  sleeping..\n",
      "29\n",
      "success.  sleeping..\n",
      "30\n",
      "success.  sleeping..\n",
      "31\n",
      "success.  sleeping..\n",
      "32\n",
      "success.  sleeping..\n",
      "33\n",
      "success.  sleeping..\n",
      "34\n",
      "success.  sleeping..\n",
      "35\n",
      "success.  sleeping..\n",
      "36\n",
      "success.  sleeping..\n",
      "37\n",
      "success.  sleeping..\n",
      "38\n",
      "success.  sleeping..\n",
      "39\n",
      "success.  sleeping..\n",
      "40\n",
      "success.  sleeping..\n",
      "41\n",
      "success.  sleeping..\n",
      "42\n",
      "success.  sleeping..\n",
      "43\n",
      "success.  sleeping..\n",
      "44\n",
      "success.  sleeping..\n",
      "45\n",
      "success.  sleeping..\n",
      "46\n",
      "success.  sleeping..\n",
      "47\n",
      "success.  sleeping..\n",
      "48\n",
      "success.  sleeping..\n",
      "49\n",
      "success.  sleeping..\n",
      "50\n",
      "success.  sleeping..\n",
      "51\n",
      "success.  sleeping..\n",
      "52\n",
      "success.  sleeping..\n",
      "53\n",
      "success.  sleeping..\n",
      "54\n",
      "success.  sleeping..\n",
      "55\n",
      "success.  sleeping..\n",
      "56\n",
      "success.  sleeping..\n",
      "57\n",
      "success.  sleeping..\n",
      "58\n",
      "success.  sleeping..\n",
      "59\n",
      "success.  sleeping..\n",
      "60\n",
      "success.  sleeping..\n",
      "61\n",
      "success.  sleeping..\n",
      "62\n",
      "success.  sleeping..\n",
      "63\n",
      "success.  sleeping..\n",
      "64\n",
      "success.  sleeping..\n",
      "65\n",
      "success.  sleeping..\n",
      "66\n",
      "success.  sleeping..\n",
      "67\n",
      "success.  sleeping..\n",
      "68\n",
      "success.  sleeping..\n",
      "69\n",
      "success.  sleeping..\n",
      "70\n",
      "success.  sleeping..\n",
      "71\n",
      "success.  sleeping..\n",
      "72\n",
      "success.  sleeping..\n",
      "73\n",
      "success.  sleeping..\n",
      "74\n",
      "success.  sleeping..\n",
      "75\n",
      "success.  sleeping..\n",
      "76\n",
      "success.  sleeping..\n",
      "77\n",
      "success.  sleeping..\n",
      "78\n",
      "success.  sleeping..\n",
      "79\n",
      "success.  sleeping..\n",
      "80\n",
      "success.  sleeping..\n",
      "81\n",
      "success.  sleeping..\n",
      "82\n",
      "success.  sleeping..\n",
      "83\n",
      "success.  sleeping..\n",
      "84\n",
      "success.  sleeping..\n",
      "85\n",
      "success.  sleeping..\n",
      "86\n",
      "success.  sleeping..\n",
      "87\n",
      "success.  sleeping..\n",
      "88\n",
      "success.  sleeping..\n",
      "89\n",
      "success.  sleeping..\n",
      "90\n",
      "success.  sleeping..\n",
      "91\n",
      "success.  sleeping..\n",
      "92\n",
      "success.  sleeping..\n",
      "93\n",
      "success.  sleeping..\n",
      "94\n",
      "success.  sleeping..\n",
      "95\n",
      "success.  sleeping..\n",
      "96\n",
      "success.  sleeping..\n",
      "97\n",
      "success.  sleeping..\n",
      "98\n",
      "success.  sleeping..\n",
      "99\n",
      "success.  sleeping..\n",
      "100\n",
      "success.  sleeping..\n",
      "101\n",
      "success.  sleeping..\n",
      "102\n",
      "success.  sleeping..\n",
      "103\n",
      "success.  sleeping..\n",
      "104\n",
      "success.  sleeping..\n",
      "105\n",
      "success.  sleeping..\n",
      "106\n",
      "success.  sleeping..\n",
      "107\n",
      "success.  sleeping..\n",
      "108\n",
      "success.  sleeping..\n",
      "109\n",
      "success.  sleeping..\n",
      "110\n",
      "success.  sleeping..\n",
      "111\n",
      "success.  sleeping..\n",
      "112\n",
      "success.  sleeping..\n",
      "113\n",
      "success.  sleeping..\n",
      "114\n",
      "success.  sleeping..\n",
      "115\n",
      "success.  sleeping..\n",
      "116\n",
      "success.  sleeping..\n",
      "117\n",
      "success.  sleeping..\n",
      "118\n",
      "success.  sleeping..\n",
      "119\n",
      "success.  sleeping..\n",
      "120\n",
      "success.  sleeping..\n",
      "121\n",
      "success.  sleeping..\n",
      "122\n",
      "success.  sleeping..\n",
      "123\n",
      "success.  sleeping..\n",
      "124\n",
      "success.  sleeping..\n",
      "125\n",
      "success.  sleeping..\n",
      "126\n",
      "success.  sleeping..\n",
      "127\n",
      "success.  sleeping..\n",
      "128\n",
      "success.  sleeping..\n",
      "129\n",
      "success.  sleeping..\n",
      "130\n",
      "success.  sleeping..\n",
      "131\n",
      "success.  sleeping..\n",
      "132\n",
      "success.  sleeping..\n",
      "133\n",
      "success.  sleeping..\n",
      "134\n",
      "success.  sleeping..\n",
      "135\n",
      "success.  sleeping..\n",
      "136\n",
      "success.  sleeping..\n",
      "137\n",
      "success.  sleeping..\n",
      "138\n",
      "success.  sleeping..\n",
      "139\n",
      "success.  sleeping..\n",
      "140\n",
      "success.  sleeping..\n",
      "141\n",
      "success.  sleeping..\n",
      "142\n",
      "success.  sleeping..\n",
      "143\n",
      "success.  sleeping..\n",
      "144\n",
      "success.  sleeping..\n",
      "145\n",
      "success.  sleeping..\n",
      "146\n",
      "success.  sleeping..\n",
      "147\n",
      "success.  sleeping..\n",
      "148\n",
      "success.  sleeping..\n",
      "149\n",
      "success.  sleeping..\n",
      "150\n",
      "success.  sleeping..\n",
      "151\n",
      "success.  sleeping..\n",
      "152\n",
      "success.  sleeping..\n",
      "153\n",
      "success.  sleeping..\n",
      "154\n",
      "success.  sleeping..\n",
      "155\n",
      "success.  sleeping..\n",
      "156\n",
      "success.  sleeping..\n",
      "157\n",
      "success.  sleeping..\n",
      "158\n",
      "success.  sleeping..\n",
      "159\n",
      "success.  sleeping..\n",
      "160\n",
      "success.  sleeping..\n",
      "161\n",
      "success.  sleeping..\n",
      "162\n",
      "success.  sleeping..\n",
      "163\n",
      "success.  sleeping..\n",
      "164\n",
      "success.  sleeping..\n",
      "165\n",
      "success.  sleeping..\n",
      "166\n",
      "success.  sleeping..\n",
      "167\n",
      "success.  sleeping..\n",
      "168\n",
      "success.  sleeping..\n",
      "169\n",
      "success.  sleeping..\n",
      "170\n",
      "success.  sleeping..\n",
      "171\n",
      "success.  sleeping..\n",
      "172\n",
      "success.  sleeping..\n",
      "173\n",
      "success.  sleeping..\n",
      "174\n",
      "success.  sleeping..\n",
      "175\n",
      "success.  sleeping..\n",
      "176\n",
      "success.  sleeping..\n",
      "177\n",
      "success.  sleeping..\n",
      "178\n",
      "success.  sleeping..\n",
      "179\n",
      "success.  sleeping..\n",
      "180\n",
      "success.  sleeping..\n",
      "181\n",
      "success.  sleeping..\n",
      "182\n",
      "success.  sleeping..\n",
      "183\n",
      "success.  sleeping..\n",
      "184\n",
      "success.  sleeping..\n",
      "185\n",
      "success.  sleeping..\n",
      "186\n",
      "success.  sleeping..\n",
      "187\n",
      "success.  sleeping..\n",
      "188\n",
      "success.  sleeping..\n",
      "189\n",
      "success.  sleeping..\n",
      "190\n",
      "success.  sleeping..\n",
      "191\n",
      "success.  sleeping..\n",
      "192\n",
      "success.  sleeping..\n",
      "193\n",
      "success.  sleeping..\n",
      "194\n",
      "success.  sleeping..\n",
      "195\n",
      "success.  sleeping..\n",
      "196\n",
      "success.  sleeping..\n",
      "197\n",
      "success.  sleeping..\n",
      "198\n",
      "success.  sleeping..\n",
      "199\n",
      "success.  sleeping..\n",
      "200\n",
      "success.  sleeping..\n",
      "201\n",
      "success.  sleeping..\n",
      "202\n",
      "success.  sleeping..\n",
      "203\n",
      "success.  sleeping..\n",
      "204\n",
      "success.  sleeping..\n",
      "205\n",
      "success.  sleeping..\n",
      "206\n",
      "success.  sleeping..\n",
      "207\n",
      "success.  sleeping..\n",
      "208\n",
      "success.  sleeping..\n",
      "209\n",
      "success.  sleeping..\n",
      "210\n",
      "success.  sleeping..\n"
     ]
    }
   ],
   "source": [
    "base_url = 'http://piero.irradium.net/Lick'\n",
    "for ix in range(1,211):\n",
    "    print(ix)\n",
    "    url = base_url + str(ix) + '.mid'\n",
    "    fname = 'data/guitar_licks/Lick' + str(ix) + '.mid'\n",
    "    urllib.urlretrieve(url, fname)\n",
    "    print('success.  sleeping..')\n",
    "    time.sleep(2 + random.random() * 1)"
   ]
  },
  {
   "cell_type": "code",
   "execution_count": null,
   "metadata": {
    "collapsed": false
   },
   "outputs": [],
   "source": []
  },
  {
   "cell_type": "code",
   "execution_count": 59,
   "metadata": {
    "collapsed": false
   },
   "outputs": [
    {
     "data": {
      "text/plain": [
       "('file.mid', <httplib.HTTPMessage instance at 0x7fb9530eedd0>)"
      ]
     },
     "execution_count": 59,
     "metadata": {},
     "output_type": "execute_result"
    }
   ],
   "source": []
  },
  {
   "cell_type": "code",
   "execution_count": 64,
   "metadata": {
    "collapsed": false
   },
   "outputs": [
    {
     "name": "stdout",
     "output_type": "stream",
     "text": [
      "Lick10.mid  Lick17.mid  Lick23.mid  Lick2.mid   Lick36.mid  Lick89.mid\r\n",
      "Lick11.mid  Lick18.mid  Lick24.mid  Lick30.mid  Lick3.mid   Lick8.mid\r\n",
      "Lick12.mid  Lick19.mid  Lick25.mid  Lick31.mid  Lick4.mid   Lick94.mid\r\n",
      "Lick13.mid  Lick1.mid   Lick26.mid  Lick32.mid  Lick5.mid   Lick9.mid\r\n",
      "Lick14.mid  Lick20.mid  Lick27.mid  Lick33.mid  Lick6.mid\r\n",
      "Lick15.mid  Lick21.mid  Lick28.mid  Lick34.mid  Lick7.mid\r\n",
      "Lick16.mid  Lick22.mid  Lick29.mid  Lick35.mid  Lick84.mid\r\n"
     ]
    }
   ],
   "source": [
    "ls data/guitar_licks"
   ]
  },
  {
   "cell_type": "code",
   "execution_count": null,
   "metadata": {
    "collapsed": true
   },
   "outputs": [],
   "source": []
  }
 ],
 "metadata": {
  "anaconda-cloud": {},
  "kernelspec": {
   "display_name": "Python [default]",
   "language": "python",
   "name": "python2"
  },
  "language_info": {
   "codemirror_mode": {
    "name": "ipython",
    "version": 2
   },
   "file_extension": ".py",
   "mimetype": "text/x-python",
   "name": "python",
   "nbconvert_exporter": "python",
   "pygments_lexer": "ipython2",
   "version": "2.7.12"
  }
 },
 "nbformat": 4,
 "nbformat_minor": 1
}
