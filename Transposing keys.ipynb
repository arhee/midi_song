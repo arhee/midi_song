{
 "cells": [
  {
   "cell_type": "markdown",
   "metadata": {},
   "source": [
    "This converts midi files into the key of C.\n",
    "\n",
    "To Do:  Make it malleable for any key"
   ]
  },
  {
   "cell_type": "code",
   "execution_count": 1,
   "metadata": {
    "collapsed": true
   },
   "outputs": [],
   "source": [
    "import music21\n",
    "import glob"
   ]
  },
  {
   "cell_type": "code",
   "execution_count": null,
   "metadata": {
    "collapsed": true
   },
   "outputs": [],
   "source": [
    "def transpose(score, newkey='C'):\n",
    "    \"\"\" Transposes the midi file to C. \n",
    "    Args: music21.stream.Score\n",
    "    Returns: music21.stream.Score\n",
    "    \"\"\"\n",
    "\n",
    "    keys = {'C':0, \n",
    "            'C#':1, \n",
    "            'D-':1,\n",
    "            'D':2,\n",
    "            'D#':3,\n",
    "            'E-':3,\n",
    "            'E':4,\n",
    "            'F-':4,\n",
    "            'E#':5,        \n",
    "            'F':5,\n",
    "            'F#':6,\n",
    "            'G-':6,\n",
    "            'G':7,\n",
    "            'G#':8,\n",
    "            'A-':8,\n",
    "            'A':9,\n",
    "            'A#':10,\n",
    "            'B-':10,\n",
    "            'B':11,\n",
    "            'B#':0,\n",
    "           }\n",
    "\n",
    "    oldkey = score.analyze('key')\n",
    "\n",
    "    if oldkey.mode == \"major\":\n",
    "        halfSteps = keys[oldkey.tonic.name.upper()]\n",
    "\n",
    "    elif oldkey.mode == \"minor\":\n",
    "        halfSteps = keys[oldkey.tonic.name.upper()] + 4\n",
    "\n",
    "    halfSteps %= 12\n",
    "\n",
    "    newscore = score.transpose(-halfSteps)\n",
    "    trans_key = newscore.analyze('key')\n",
    "    print oldkey, trans_key\n",
    "    return newscore"
   ]
  },
  {
   "cell_type": "code",
   "execution_count": null,
   "metadata": {
    "collapsed": true
   },
   "outputs": [],
   "source": [
    "guitar_dir = 'data/guitar_licks/'\n",
    "for fname in glob.glob(guitar_dir + '*'):\n",
    "    oldscore = music21.converter.parse(fname)\n",
    "    newscore = transpose(oldscore)\n",
    "    newFileName = \"data/tr_guitar_licks/C_\" + fname.split('/')[-1]\n",
    "    newscore.write('midi',newFileName)    "
   ]
  }
 ],
 "metadata": {
  "anaconda-cloud": {},
  "kernelspec": {
   "display_name": "Python [default]",
   "language": "python",
   "name": "python2"
  },
  "language_info": {
   "codemirror_mode": {
    "name": "ipython",
    "version": 2
   },
   "file_extension": ".py",
   "mimetype": "text/x-python",
   "name": "python",
   "nbconvert_exporter": "python",
   "pygments_lexer": "ipython2",
   "version": "2.7.12"
  }
 },
 "nbformat": 4,
 "nbformat_minor": 1
}
