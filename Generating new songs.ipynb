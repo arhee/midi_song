{
 "cells": [
  {
   "cell_type": "markdown",
   "metadata": {},
   "source": [
    "### This generates new songs based off of the guitar licks that were intaken"
   ]
  },
  {
   "cell_type": "code",
   "execution_count": 1,
   "metadata": {
    "collapsed": false
   },
   "outputs": [
    {
     "name": "stderr",
     "output_type": "stream",
     "text": [
      "Using TensorFlow backend.\n"
     ]
    }
   ],
   "source": [
    "%matplotlib inline\n",
    "\n",
    "import mido\n",
    "from mido import Message, MidiFile, MidiTrack\n",
    "import numpy as np\n",
    "from math import ceil\n",
    "import keras\n",
    "import random\n",
    "import music21\n",
    "import glob\n",
    "import os\n",
    "import json\n",
    "\n",
    "from keras.models import Sequential\n",
    "from keras.layers import Dense\n",
    "from keras.models import model_from_json\n",
    "from keras.optimizers import RMSprop\n",
    "import numpy\n",
    "\n",
    "import pickle"
   ]
  },
  {
   "cell_type": "markdown",
   "metadata": {},
   "source": [
    "### Load from disk"
   ]
  },
  {
   "cell_type": "code",
   "execution_count": 3,
   "metadata": {
    "collapsed": false
   },
   "outputs": [
    {
     "name": "stdout",
     "output_type": "stream",
     "text": [
      "test.h5             test.json           transposed_licks.p\r\n"
     ]
    }
   ],
   "source": [
    "ls data/models/"
   ]
  },
  {
   "cell_type": "code",
   "execution_count": 4,
   "metadata": {
    "collapsed": false
   },
   "outputs": [
    {
     "name": "stdout",
     "output_type": "stream",
     "text": [
      "Loaded model from disk\n"
     ]
    }
   ],
   "source": [
    "model_dir = 'data/models/'\n",
    "model_name = 'test'\n",
    "\n",
    "\n",
    "# load json and create model\n",
    "with open(model_dir + model_name + '.json', 'r') as json_file:\n",
    "    loaded_model_json = json_file.read()\n",
    "\n",
    "model = model_from_json(loaded_model_json)\n",
    "# load weights into new model\n",
    "model.load_weights(model_dir + model_name + '.h5')\n",
    "print(\"Loaded model from disk\")\n",
    " \n",
    "# evaluate loaded model on test data\n",
    "model.compile(loss='binary_crossentropy', optimizer='rmsprop', metrics=['accuracy'])"
   ]
  },
  {
   "cell_type": "markdown",
   "metadata": {},
   "source": [
    "### Load a sample passage"
   ]
  },
  {
   "cell_type": "code",
   "execution_count": 9,
   "metadata": {
    "collapsed": false
   },
   "outputs": [],
   "source": [
    "data_fname = 'data/models/transposed_licks.p'\n",
    "with open(data_fname) as f:\n",
    "    data = pickle.load(f)\n",
    "    \n",
    "X = data['X']\n",
    "y = data['y']"
   ]
  },
  {
   "cell_type": "code",
   "execution_count": 27,
   "metadata": {
    "collapsed": false
   },
   "outputs": [],
   "source": [
    "ix = random.randint(0, X.shape[0])\n",
    "psg_seed = X[ix,:,:]\n",
    "psg_seed = psg_seed[None,:]"
   ]
  },
  {
   "cell_type": "markdown",
   "metadata": {},
   "source": [
    "### s"
   ]
  },
  {
   "cell_type": "code",
   "execution_count": 31,
   "metadata": {
    "collapsed": false
   },
   "outputs": [],
   "source": [
    "def new_song_mat(model, psg_seed, tsteps=100):\n",
    "    \"\"\" turns a passage seed to a song with #tsteps\n",
    "    \"\"\"\n",
    "#     start_ix = random.randint(0, steps-maxlen - 1)\n",
    "#     psg_seed = music_mat[start_ix:start_ix+maxlen,:]\n",
    "#     x = psg_seed[None,:,:]\n",
    "\n",
    "    new_song = []\n",
    "    x = psg_seed\n",
    "    new_song.append(x)\n",
    "    nnotes = psg_seed.shape[-1]\n",
    "    \n",
    "    for _ in range(tsteps):\n",
    "\n",
    "        preds = model.predict(x, verbose=0)[0]\n",
    "\n",
    "        # this is a timestep slice\n",
    "        new_note = np.zeros(nnotes)\n",
    "        new_note[preds.argmax()] = 1\n",
    "        new_note = new_note[None, None,:]\n",
    "\n",
    "        # redo the seed psg\n",
    "        psg = np.concatenate([x,new_note], axis=1)\n",
    "        x = psg[:, 1:,:]\n",
    "\n",
    "        new_song.append(new_note)\n",
    "\n",
    "    new_song = np.concatenate(new_song, axis=1)\n",
    "    new_song = np.squeeze(new_song)\n",
    "    return new_song"
   ]
  },
  {
   "cell_type": "code",
   "execution_count": 43,
   "metadata": {
    "collapsed": true
   },
   "outputs": [],
   "source": [
    "def notelist_to_track(new_song, tick_step=100, note_range=[36,84]):   \n",
    "    \"\"\" Converts a notelist to a miditrack.\n",
    "    Assumes that adjacent notes are held\n",
    "    \"\"\"\n",
    "    track = MidiTrack()\n",
    "    nsteps = new_song.shape[0]\n",
    "    last_event = 0\n",
    "    active_notes = np.zeros(new_song.shape[-1])\n",
    "    \n",
    "    for ix in range(nsteps):\n",
    "        step_slice = new_song[ix,:]\n",
    "\n",
    "        diff = [ix for ix,(x,y) in enumerate(zip(step_slice, active_notes)) if x!=y]\n",
    "        if len(diff) == 0:\n",
    "            last_event += 1\n",
    "            continue\n",
    "\n",
    "        # this means there is a difference\n",
    "        for note_ix in diff:\n",
    "            # off to on\n",
    "            note = note_ix+min(note_range)\n",
    "            if active_notes[note_ix] == 0:\n",
    "                track.append(Message('note_on', note=note, velocity=127, time=int(tick_step*last_event) ))\n",
    "                active_notes[note_ix] = 1\n",
    "            else:\n",
    "                track.append(Message('note_off', note=note, velocity=127, time=int(tick_step*last_event)))\n",
    "                active_notes[note_ix] = 0\n",
    "            last_event = 0\n",
    "    return track"
   ]
  },
  {
   "cell_type": "code",
   "execution_count": 32,
   "metadata": {
    "collapsed": false
   },
   "outputs": [],
   "source": [
    "mat = new_song_mat(model, psg_seed)"
   ]
  },
  {
   "cell_type": "code",
   "execution_count": 44,
   "metadata": {
    "collapsed": false
   },
   "outputs": [],
   "source": [
    "track = notelist_to_track(mat)"
   ]
  },
  {
   "cell_type": "code",
   "execution_count": null,
   "metadata": {
    "collapsed": true
   },
   "outputs": [],
   "source": [
    "mid = MidiFile()\n",
    "mid.tracks.append(track)\n"
   ]
  },
  {
   "cell_type": "code",
   "execution_count": null,
   "metadata": {
    "collapsed": true
   },
   "outputs": [],
   "source": []
  }
 ],
 "metadata": {
  "anaconda-cloud": {},
  "kernelspec": {
   "display_name": "Python 2",
   "language": "python",
   "name": "python2"
  },
  "language_info": {
   "codemirror_mode": {
    "name": "ipython",
    "version": 2
   },
   "file_extension": ".py",
   "mimetype": "text/x-python",
   "name": "python",
   "nbconvert_exporter": "python",
   "pygments_lexer": "ipython2",
   "version": "2.7.9"
  }
 },
 "nbformat": 4,
 "nbformat_minor": 1
}
